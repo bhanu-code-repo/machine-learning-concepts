{
 "cells": [
  {
   "cell_type": "markdown",
   "id": "shared-anatomy",
   "metadata": {},
   "source": [
    "#### Knowledge Sharing Content\n",
    "# <center> Bayesian Network"
   ]
  },
  {
   "cell_type": "markdown",
   "id": "criminal-powell",
   "metadata": {},
   "source": [
    "### Problem Statement \n",
    "The Monty Hall problem arose from the gameshow [Let’s Make a Deal](https://www.youtube.com/results?search_query=Let%E2%80%99s+Make+a+Deal), where a guest had to choose which one of three doors had a prize behind it. The twist was that after the guest chose, the host, originally Monty Hall, would then open one of the doors the guest did not pick and ask if the guest wanted to switch which door they had picked\n",
    "<img src=\"./images/monty-hall-games-show-concept.png\">\n",
    "### Problem - DAG Diagram\n",
    "<img src=\"./images/dac-monty-hall-problem.png\">"
   ]
  },
  {
   "cell_type": "markdown",
   "id": "descending-verse",
   "metadata": {},
   "source": [
    "### DAG - Nodes\n",
    "* __Guest Door__ - Door chosen by guest\n",
    "* __Prize Door__ - Door containing the prize\n",
    "* __Monty Door__ - Door chosen by monty (Host of show: [Let’s Make a Deal](https://www.youtube.com/results?search_query=Let%E2%80%99s+Make+a+Deal))"
   ]
  },
  {
   "cell_type": "code",
   "execution_count": 1,
   "id": "former-diagram",
   "metadata": {},
   "outputs": [],
   "source": [
    "# importing packages\n",
    "import math\n",
    "from pomegranate import *"
   ]
  },
  {
   "cell_type": "code",
   "execution_count": 2,
   "id": "romance-tulsa",
   "metadata": {},
   "outputs": [],
   "source": [
    "# The guests initial door selection is completely random\n",
    "guest = DiscreteDistribution( { 'A': 1./3, 'B': 1./3, 'C': 1./3 } )"
   ]
  },
  {
   "cell_type": "code",
   "execution_count": 3,
   "id": "occupied-moisture",
   "metadata": {},
   "outputs": [],
   "source": [
    "# The door the prize is behind is also completely random\n",
    "prize = DiscreteDistribution( { 'A': 1./3, 'B': 1./3, 'C': 1./3 } )"
   ]
  },
  {
   "cell_type": "code",
   "execution_count": 4,
   "id": "perceived-algeria",
   "metadata": {},
   "outputs": [],
   "source": [
    "# Monty is dependent on both the guest and the prize.\n",
    "monty = ConditionalProbabilityTable(\n",
    "        [[ 'A', 'A', 'A', 0.0 ],\n",
    "         [ 'A', 'A', 'B', 0.5 ],\n",
    "         [ 'A', 'A', 'C', 0.5 ],\n",
    "         [ 'A', 'B', 'A', 0.0 ],\n",
    "         [ 'A', 'B', 'B', 0.0 ],\n",
    "         [ 'A', 'B', 'C', 1.0 ],\n",
    "         [ 'A', 'C', 'A', 0.0 ],\n",
    "         [ 'A', 'C', 'B', 1.0 ],\n",
    "         [ 'A', 'C', 'C', 0.0 ],\n",
    "         [ 'B', 'A', 'A', 0.0 ],\n",
    "         [ 'B', 'A', 'B', 0.0 ],\n",
    "         [ 'B', 'A', 'C', 1.0 ],\n",
    "         [ 'B', 'B', 'A', 0.5 ],\n",
    "         [ 'B', 'B', 'B', 0.0 ],\n",
    "         [ 'B', 'B', 'C', 0.5 ],\n",
    "         [ 'B', 'C', 'A', 1.0 ],\n",
    "         [ 'B', 'C', 'B', 0.0 ],\n",
    "         [ 'B', 'C', 'C', 0.0 ],\n",
    "         [ 'C', 'A', 'A', 0.0 ],\n",
    "         [ 'C', 'A', 'B', 1.0 ],\n",
    "         [ 'C', 'A', 'C', 0.0 ],\n",
    "         [ 'C', 'B', 'A', 1.0 ],\n",
    "         [ 'C', 'B', 'B', 0.0 ],\n",
    "         [ 'C', 'B', 'C', 0.0 ],\n",
    "         [ 'C', 'C', 'A', 0.5 ],\n",
    "         [ 'C', 'C', 'B', 0.5 ],\n",
    "         [ 'C', 'C', 'C', 0.0 ]], [guest, prize] )"
   ]
  },
  {
   "cell_type": "code",
   "execution_count": 5,
   "id": "educated-repeat",
   "metadata": {},
   "outputs": [],
   "source": [
    "s1 = State( guest, name=\"guest\" )\n",
    "s2 = State( prize, name=\"prize\" )\n",
    "s3 = State( monty, name=\"monty\" )"
   ]
  },
  {
   "cell_type": "code",
   "execution_count": 6,
   "id": "criminal-indian",
   "metadata": {},
   "outputs": [],
   "source": [
    "network = BayesianNetwork(\"Monty Hall Problem\")\n",
    "network.add_states(s1, s2, s3)\n",
    "network.add_edge(s1, s3)\n",
    "network.add_edge(s2, s3)\n",
    "network.bake()"
   ]
  },
  {
   "cell_type": "code",
   "execution_count": 7,
   "id": "external-worcester",
   "metadata": {},
   "outputs": [
    {
     "name": "stdout",
     "output_type": "stream",
     "text": [
      "guest\tA\n",
      "prize\t{\n",
      "    \"class\" : \"Distribution\",\n",
      "    \"dtype\" : \"str\",\n",
      "    \"name\" : \"DiscreteDistribution\",\n",
      "    \"parameters\" : [\n",
      "        {\n",
      "            \"A\" : 0.3333333333333333,\n",
      "            \"B\" : 0.3333333333333333,\n",
      "            \"C\" : 0.3333333333333333\n",
      "        }\n",
      "    ],\n",
      "    \"frozen\" : false\n",
      "}\n",
      "monty\t{\n",
      "    \"class\" : \"Distribution\",\n",
      "    \"dtype\" : \"str\",\n",
      "    \"name\" : \"DiscreteDistribution\",\n",
      "    \"parameters\" : [\n",
      "        {\n",
      "            \"C\" : 0.49999999999999994,\n",
      "            \"B\" : 0.49999999999999994,\n",
      "            \"A\" : 0.0\n",
      "        }\n",
      "    ],\n",
      "    \"frozen\" : false\n",
      "}\n"
     ]
    }
   ],
   "source": [
    "beliefs = network.predict_proba({ 'guest' : 'A' })\n",
    "beliefs = map(str, beliefs)\n",
    "print(\"\\n\".join( \"{}\\t{}\".format( state.name, belief ) for state, belief in zip( network.states, beliefs )))"
   ]
  },
  {
   "cell_type": "code",
   "execution_count": 8,
   "id": "russian-variable",
   "metadata": {},
   "outputs": [
    {
     "name": "stdout",
     "output_type": "stream",
     "text": [
      "guest\tA\n",
      "prize\t{\n",
      "    \"class\" : \"Distribution\",\n",
      "    \"dtype\" : \"str\",\n",
      "    \"name\" : \"DiscreteDistribution\",\n",
      "    \"parameters\" : [\n",
      "        {\n",
      "            \"A\" : 0.3333333333333334,\n",
      "            \"B\" : 0.0,\n",
      "            \"C\" : 0.6666666666666664\n",
      "        }\n",
      "    ],\n",
      "    \"frozen\" : false\n",
      "}\n",
      "monty\tB\n"
     ]
    }
   ],
   "source": [
    "beliefs = network.predict_proba({'guest' : 'A', 'monty' : 'B'})\n",
    "print(\"\\n\".join( \"{}\\t{}\".format( state.name, str(belief) ) for state, belief in zip( network.states, beliefs ) ))"
   ]
  }
 ],
 "metadata": {
  "kernelspec": {
   "display_name": "Python 3",
   "language": "python",
   "name": "python3"
  },
  "language_info": {
   "codemirror_mode": {
    "name": "ipython",
    "version": 3
   },
   "file_extension": ".py",
   "mimetype": "text/x-python",
   "name": "python",
   "nbconvert_exporter": "python",
   "pygments_lexer": "ipython3",
   "version": "3.7.3"
  }
 },
 "nbformat": 4,
 "nbformat_minor": 5
}

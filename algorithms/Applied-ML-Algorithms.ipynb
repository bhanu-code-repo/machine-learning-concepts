{
 "cells": [
  {
   "cell_type": "code",
   "execution_count": 1,
   "id": "d0f48bd9",
   "metadata": {},
   "outputs": [],
   "source": [
    "# Importing required packages\n",
    "import pandas as pd\n",
    "import numpy as np\n",
    "import seaborn as sns\n",
    "import matplotlib.pyplot as plt\n",
    "%matplotlib inline\n",
    "\n",
    "import IPython.display as display\n",
    "import ipywidgets as widgets\n",
    "\n",
    "from sklearn.model_selection import train_test_split\n",
    "from scipy.optimize import curve_fit\n",
    "\n",
    "import joblib\n",
    "\n",
    "# Supress warnings\n",
    "import warnings\n",
    "warnings.filterwarnings('ignore')"
   ]
  },
  {
   "cell_type": "code",
   "execution_count": 2,
   "id": "c04b50da",
   "metadata": {},
   "outputs": [
    {
     "data": {
      "text/plain": [
       "(891, 12)"
      ]
     },
     "execution_count": 2,
     "metadata": {},
     "output_type": "execute_result"
    }
   ],
   "source": [
    "# Loading dataset\n",
    "df = pd.read_csv('data/titanic.csv')\n",
    "df.shape"
   ]
  },
  {
   "cell_type": "code",
   "execution_count": 3,
   "id": "2cd38df3",
   "metadata": {},
   "outputs": [
    {
     "data": {
      "text/html": [
       "<div>\n",
       "<style scoped>\n",
       "    .dataframe tbody tr th:only-of-type {\n",
       "        vertical-align: middle;\n",
       "    }\n",
       "\n",
       "    .dataframe tbody tr th {\n",
       "        vertical-align: top;\n",
       "    }\n",
       "\n",
       "    .dataframe thead th {\n",
       "        text-align: right;\n",
       "    }\n",
       "</style>\n",
       "<table border=\"1\" class=\"dataframe\">\n",
       "  <thead>\n",
       "    <tr style=\"text-align: right;\">\n",
       "      <th></th>\n",
       "      <th>PassengerId</th>\n",
       "      <th>Survived</th>\n",
       "      <th>Pclass</th>\n",
       "      <th>Name</th>\n",
       "      <th>Sex</th>\n",
       "      <th>Age</th>\n",
       "      <th>SibSp</th>\n",
       "      <th>Parch</th>\n",
       "      <th>Ticket</th>\n",
       "      <th>Fare</th>\n",
       "      <th>Cabin</th>\n",
       "      <th>Embarked</th>\n",
       "    </tr>\n",
       "  </thead>\n",
       "  <tbody>\n",
       "    <tr>\n",
       "      <th>0</th>\n",
       "      <td>1</td>\n",
       "      <td>0</td>\n",
       "      <td>3</td>\n",
       "      <td>Braund, Mr. Owen Harris</td>\n",
       "      <td>male</td>\n",
       "      <td>22.0</td>\n",
       "      <td>1</td>\n",
       "      <td>0</td>\n",
       "      <td>A/5 21171</td>\n",
       "      <td>7.2500</td>\n",
       "      <td>NaN</td>\n",
       "      <td>S</td>\n",
       "    </tr>\n",
       "    <tr>\n",
       "      <th>1</th>\n",
       "      <td>2</td>\n",
       "      <td>1</td>\n",
       "      <td>1</td>\n",
       "      <td>Cumings, Mrs. John Bradley (Florence Briggs Th...</td>\n",
       "      <td>female</td>\n",
       "      <td>38.0</td>\n",
       "      <td>1</td>\n",
       "      <td>0</td>\n",
       "      <td>PC 17599</td>\n",
       "      <td>71.2833</td>\n",
       "      <td>C85</td>\n",
       "      <td>C</td>\n",
       "    </tr>\n",
       "    <tr>\n",
       "      <th>2</th>\n",
       "      <td>3</td>\n",
       "      <td>1</td>\n",
       "      <td>3</td>\n",
       "      <td>Heikkinen, Miss. Laina</td>\n",
       "      <td>female</td>\n",
       "      <td>26.0</td>\n",
       "      <td>0</td>\n",
       "      <td>0</td>\n",
       "      <td>STON/O2. 3101282</td>\n",
       "      <td>7.9250</td>\n",
       "      <td>NaN</td>\n",
       "      <td>S</td>\n",
       "    </tr>\n",
       "    <tr>\n",
       "      <th>3</th>\n",
       "      <td>4</td>\n",
       "      <td>1</td>\n",
       "      <td>1</td>\n",
       "      <td>Futrelle, Mrs. Jacques Heath (Lily May Peel)</td>\n",
       "      <td>female</td>\n",
       "      <td>35.0</td>\n",
       "      <td>1</td>\n",
       "      <td>0</td>\n",
       "      <td>113803</td>\n",
       "      <td>53.1000</td>\n",
       "      <td>C123</td>\n",
       "      <td>S</td>\n",
       "    </tr>\n",
       "    <tr>\n",
       "      <th>4</th>\n",
       "      <td>5</td>\n",
       "      <td>0</td>\n",
       "      <td>3</td>\n",
       "      <td>Allen, Mr. William Henry</td>\n",
       "      <td>male</td>\n",
       "      <td>35.0</td>\n",
       "      <td>0</td>\n",
       "      <td>0</td>\n",
       "      <td>373450</td>\n",
       "      <td>8.0500</td>\n",
       "      <td>NaN</td>\n",
       "      <td>S</td>\n",
       "    </tr>\n",
       "  </tbody>\n",
       "</table>\n",
       "</div>"
      ],
      "text/plain": [
       "   PassengerId  Survived  Pclass  \\\n",
       "0            1         0       3   \n",
       "1            2         1       1   \n",
       "2            3         1       3   \n",
       "3            4         1       1   \n",
       "4            5         0       3   \n",
       "\n",
       "                                                Name     Sex   Age  SibSp  \\\n",
       "0                            Braund, Mr. Owen Harris    male  22.0      1   \n",
       "1  Cumings, Mrs. John Bradley (Florence Briggs Th...  female  38.0      1   \n",
       "2                             Heikkinen, Miss. Laina  female  26.0      0   \n",
       "3       Futrelle, Mrs. Jacques Heath (Lily May Peel)  female  35.0      1   \n",
       "4                           Allen, Mr. William Henry    male  35.0      0   \n",
       "\n",
       "   Parch            Ticket     Fare Cabin Embarked  \n",
       "0      0         A/5 21171   7.2500   NaN        S  \n",
       "1      0          PC 17599  71.2833   C85        C  \n",
       "2      0  STON/O2. 3101282   7.9250   NaN        S  \n",
       "3      0            113803  53.1000  C123        S  \n",
       "4      0            373450   8.0500   NaN        S  "
      ]
     },
     "execution_count": 3,
     "metadata": {},
     "output_type": "execute_result"
    }
   ],
   "source": [
    "# View top 5 rows\n",
    "df.head()"
   ]
  },
  {
   "cell_type": "code",
   "execution_count": 4,
   "id": "101f7276",
   "metadata": {},
   "outputs": [
    {
     "name": "stdout",
     "output_type": "stream",
     "text": [
      "<class 'pandas.core.frame.DataFrame'>\n",
      "RangeIndex: 891 entries, 0 to 890\n",
      "Data columns (total 12 columns):\n",
      " #   Column       Non-Null Count  Dtype  \n",
      "---  ------       --------------  -----  \n",
      " 0   PassengerId  891 non-null    int64  \n",
      " 1   Survived     891 non-null    int64  \n",
      " 2   Pclass       891 non-null    int64  \n",
      " 3   Name         891 non-null    object \n",
      " 4   Sex          891 non-null    object \n",
      " 5   Age          714 non-null    float64\n",
      " 6   SibSp        891 non-null    int64  \n",
      " 7   Parch        891 non-null    int64  \n",
      " 8   Ticket       891 non-null    object \n",
      " 9   Fare         891 non-null    float64\n",
      " 10  Cabin        204 non-null    object \n",
      " 11  Embarked     889 non-null    object \n",
      "dtypes: float64(2), int64(5), object(5)\n",
      "memory usage: 83.7+ KB\n"
     ]
    }
   ],
   "source": [
    "# Check dataset info\n",
    "df.info()"
   ]
  },
  {
   "cell_type": "code",
   "execution_count": 5,
   "id": "171b40a5",
   "metadata": {},
   "outputs": [
    {
     "data": {
      "text/plain": [
       "(891, 11)"
      ]
     },
     "execution_count": 5,
     "metadata": {},
     "output_type": "execute_result"
    }
   ],
   "source": [
    "# Dropping \"PassengerId\" feature\n",
    "df.drop('PassengerId', axis=1, inplace=True)\n",
    "df.shape"
   ]
  },
  {
   "cell_type": "code",
   "execution_count": 6,
   "id": "bfb04f99",
   "metadata": {},
   "outputs": [
    {
     "data": {
      "text/plain": [
       "Cabin       77.10\n",
       "Age         19.87\n",
       "Embarked     0.22\n",
       "Survived     0.00\n",
       "Pclass       0.00\n",
       "Name         0.00\n",
       "Sex          0.00\n",
       "SibSp        0.00\n",
       "Parch        0.00\n",
       "Ticket       0.00\n",
       "Fare         0.00\n",
       "dtype: float64"
      ]
     },
     "execution_count": 6,
     "metadata": {},
     "output_type": "execute_result"
    }
   ],
   "source": [
    "# Check for missing value percentage\n",
    "round((df.isnull().sum()*100/df.shape[0]).sort_values(ascending=False), 2)"
   ]
  },
  {
   "cell_type": "markdown",
   "id": "d0ae49d2",
   "metadata": {},
   "source": [
    "## Missing Value Treatment"
   ]
  },
  {
   "cell_type": "code",
   "execution_count": 7,
   "id": "d08a9ed3",
   "metadata": {},
   "outputs": [
    {
     "data": {
      "text/plain": [
       "Cabin\n",
       "False    0.666667\n",
       "True     0.299854\n",
       "Name: Survived, dtype: float64"
      ]
     },
     "execution_count": 7,
     "metadata": {},
     "output_type": "execute_result"
    }
   ],
   "source": [
    "# Group by cabin\n",
    "df.groupby(df.Cabin.isnull())['Survived'].mean()"
   ]
  },
  {
   "cell_type": "markdown",
   "id": "590d986b",
   "metadata": {},
   "source": [
    "Survival rate is lower when `Cabin` is missing, so basically `Cabin` is not missing at random"
   ]
  },
  {
   "cell_type": "code",
   "execution_count": 8,
   "id": "78e25aca",
   "metadata": {},
   "outputs": [
    {
     "data": {
      "text/html": [
       "<div>\n",
       "<style scoped>\n",
       "    .dataframe tbody tr th:only-of-type {\n",
       "        vertical-align: middle;\n",
       "    }\n",
       "\n",
       "    .dataframe tbody tr th {\n",
       "        vertical-align: top;\n",
       "    }\n",
       "\n",
       "    .dataframe thead th {\n",
       "        text-align: right;\n",
       "    }\n",
       "</style>\n",
       "<table border=\"1\" class=\"dataframe\">\n",
       "  <thead>\n",
       "    <tr style=\"text-align: right;\">\n",
       "      <th></th>\n",
       "      <th>Survived</th>\n",
       "      <th>Pclass</th>\n",
       "      <th>Name</th>\n",
       "      <th>Sex</th>\n",
       "      <th>Age</th>\n",
       "      <th>SibSp</th>\n",
       "      <th>Parch</th>\n",
       "      <th>Ticket</th>\n",
       "      <th>Fare</th>\n",
       "      <th>Cabin</th>\n",
       "      <th>Embarked</th>\n",
       "      <th>CabinIndicator</th>\n",
       "    </tr>\n",
       "  </thead>\n",
       "  <tbody>\n",
       "    <tr>\n",
       "      <th>0</th>\n",
       "      <td>0</td>\n",
       "      <td>3</td>\n",
       "      <td>Braund, Mr. Owen Harris</td>\n",
       "      <td>male</td>\n",
       "      <td>22.0</td>\n",
       "      <td>1</td>\n",
       "      <td>0</td>\n",
       "      <td>A/5 21171</td>\n",
       "      <td>7.2500</td>\n",
       "      <td>NaN</td>\n",
       "      <td>S</td>\n",
       "      <td>0</td>\n",
       "    </tr>\n",
       "    <tr>\n",
       "      <th>1</th>\n",
       "      <td>1</td>\n",
       "      <td>1</td>\n",
       "      <td>Cumings, Mrs. John Bradley (Florence Briggs Th...</td>\n",
       "      <td>female</td>\n",
       "      <td>38.0</td>\n",
       "      <td>1</td>\n",
       "      <td>0</td>\n",
       "      <td>PC 17599</td>\n",
       "      <td>71.2833</td>\n",
       "      <td>C85</td>\n",
       "      <td>C</td>\n",
       "      <td>1</td>\n",
       "    </tr>\n",
       "    <tr>\n",
       "      <th>2</th>\n",
       "      <td>1</td>\n",
       "      <td>3</td>\n",
       "      <td>Heikkinen, Miss. Laina</td>\n",
       "      <td>female</td>\n",
       "      <td>26.0</td>\n",
       "      <td>0</td>\n",
       "      <td>0</td>\n",
       "      <td>STON/O2. 3101282</td>\n",
       "      <td>7.9250</td>\n",
       "      <td>NaN</td>\n",
       "      <td>S</td>\n",
       "      <td>0</td>\n",
       "    </tr>\n",
       "    <tr>\n",
       "      <th>3</th>\n",
       "      <td>1</td>\n",
       "      <td>1</td>\n",
       "      <td>Futrelle, Mrs. Jacques Heath (Lily May Peel)</td>\n",
       "      <td>female</td>\n",
       "      <td>35.0</td>\n",
       "      <td>1</td>\n",
       "      <td>0</td>\n",
       "      <td>113803</td>\n",
       "      <td>53.1000</td>\n",
       "      <td>C123</td>\n",
       "      <td>S</td>\n",
       "      <td>1</td>\n",
       "    </tr>\n",
       "    <tr>\n",
       "      <th>4</th>\n",
       "      <td>0</td>\n",
       "      <td>3</td>\n",
       "      <td>Allen, Mr. William Henry</td>\n",
       "      <td>male</td>\n",
       "      <td>35.0</td>\n",
       "      <td>0</td>\n",
       "      <td>0</td>\n",
       "      <td>373450</td>\n",
       "      <td>8.0500</td>\n",
       "      <td>NaN</td>\n",
       "      <td>S</td>\n",
       "      <td>0</td>\n",
       "    </tr>\n",
       "  </tbody>\n",
       "</table>\n",
       "</div>"
      ],
      "text/plain": [
       "   Survived  Pclass                                               Name  \\\n",
       "0         0       3                            Braund, Mr. Owen Harris   \n",
       "1         1       1  Cumings, Mrs. John Bradley (Florence Briggs Th...   \n",
       "2         1       3                             Heikkinen, Miss. Laina   \n",
       "3         1       1       Futrelle, Mrs. Jacques Heath (Lily May Peel)   \n",
       "4         0       3                           Allen, Mr. William Henry   \n",
       "\n",
       "      Sex   Age  SibSp  Parch            Ticket     Fare Cabin Embarked  \\\n",
       "0    male  22.0      1      0         A/5 21171   7.2500   NaN        S   \n",
       "1  female  38.0      1      0          PC 17599  71.2833   C85        C   \n",
       "2  female  26.0      0      0  STON/O2. 3101282   7.9250   NaN        S   \n",
       "3  female  35.0      1      0            113803  53.1000  C123        S   \n",
       "4    male  35.0      0      0            373450   8.0500   NaN        S   \n",
       "\n",
       "   CabinIndicator  \n",
       "0               0  \n",
       "1               1  \n",
       "2               0  \n",
       "3               1  \n",
       "4               0  "
      ]
     },
     "execution_count": 8,
     "metadata": {},
     "output_type": "execute_result"
    }
   ],
   "source": [
    "# Create new feature \"CabinIndicator\", 0 -> mssing, 1 -> not missing\n",
    "df['CabinIndicator'] = np.where(df.Cabin.isnull(), 0, 1)\n",
    "df.head()"
   ]
  },
  {
   "cell_type": "code",
   "execution_count": 9,
   "id": "597f9721",
   "metadata": {},
   "outputs": [
    {
     "data": {
      "text/plain": [
       "(891, 11)"
      ]
     },
     "execution_count": 9,
     "metadata": {},
     "output_type": "execute_result"
    }
   ],
   "source": [
    "# Dropping \"Cabin\" feature as we derived new feature out of it\n",
    "df.drop('Cabin', axis=1, inplace=True)\n",
    "df.shape"
   ]
  },
  {
   "cell_type": "code",
   "execution_count": 10,
   "id": "e74290cf",
   "metadata": {},
   "outputs": [
    {
     "data": {
      "text/plain": [
       "count    714.000000\n",
       "mean      29.699118\n",
       "std       14.526497\n",
       "min        0.420000\n",
       "25%       20.125000\n",
       "50%       28.000000\n",
       "75%       38.000000\n",
       "max       80.000000\n",
       "Name: Age, dtype: float64"
      ]
     },
     "execution_count": 10,
     "metadata": {},
     "output_type": "execute_result"
    }
   ],
   "source": [
    "# View statistical details of \"Age\" feature\n",
    "df.Age.describe()"
   ]
  },
  {
   "cell_type": "code",
   "execution_count": 11,
   "id": "05469d3f",
   "metadata": {},
   "outputs": [],
   "source": [
    "# Fill missing value with mean\n",
    "df.fillna(round(df.Age.mean(), 1), inplace=True)"
   ]
  },
  {
   "cell_type": "code",
   "execution_count": 12,
   "id": "5c13ec86",
   "metadata": {},
   "outputs": [
    {
     "data": {
      "text/plain": [
       "<Figure size 432x288 with 0 Axes>"
      ]
     },
     "metadata": {},
     "output_type": "display_data"
    },
    {
     "data": {
      "image/png": "[encoded data removed]",
      "text/plain": [
       "<Figure size 720x360 with 1 Axes>"
      ]
     },
     "metadata": {
      "needs_background": "light"
     },
     "output_type": "display_data"
    },
    {
     "data": {
      "text/plain": [
       "<Figure size 432x288 with 0 Axes>"
      ]
     },
     "metadata": {},
     "output_type": "display_data"
    },
    {
     "data": {
      "image/png": "[encoded data removed]",
      "text/plain": [
       "<Figure size 720x360 with 1 Axes>"
      ]
     },
     "metadata": {
      "needs_background": "light"
     },
     "output_type": "display_data"
    }
   ],
   "source": [
    "# Visualize \"SibSp\" & \"Parch\"\n",
    "for index, feature in enumerate(['SibSp','Parch']):\n",
    "    plt.figure(index)\n",
    "    sns.catplot(x=feature, y='Survived', data=df, kind='point', aspect=2)\n",
    "    plt.show()"
   ]
  },
  {
   "cell_type": "code",
   "execution_count": 13,
   "id": "4885c6e7",
   "metadata": {},
   "outputs": [
    {
     "data": {
      "text/html": [
       "<div>\n",
       "<style scoped>\n",
       "    .dataframe tbody tr th:only-of-type {\n",
       "        vertical-align: middle;\n",
       "    }\n",
       "\n",
       "    .dataframe tbody tr th {\n",
       "        vertical-align: top;\n",
       "    }\n",
       "\n",
       "    .dataframe thead th {\n",
       "        text-align: right;\n",
       "    }\n",
       "</style>\n",
       "<table border=\"1\" class=\"dataframe\">\n",
       "  <thead>\n",
       "    <tr style=\"text-align: right;\">\n",
       "      <th></th>\n",
       "      <th>Survived</th>\n",
       "      <th>Pclass</th>\n",
       "      <th>Name</th>\n",
       "      <th>Sex</th>\n",
       "      <th>Age</th>\n",
       "      <th>SibSp</th>\n",
       "      <th>Parch</th>\n",
       "      <th>Ticket</th>\n",
       "      <th>Fare</th>\n",
       "      <th>Embarked</th>\n",
       "      <th>CabinIndicator</th>\n",
       "      <th>FamilyCount</th>\n",
       "    </tr>\n",
       "  </thead>\n",
       "  <tbody>\n",
       "    <tr>\n",
       "      <th>0</th>\n",
       "      <td>0</td>\n",
       "      <td>3</td>\n",
       "      <td>Braund, Mr. Owen Harris</td>\n",
       "      <td>male</td>\n",
       "      <td>22.0</td>\n",
       "      <td>1</td>\n",
       "      <td>0</td>\n",
       "      <td>A/5 21171</td>\n",
       "      <td>7.2500</td>\n",
       "      <td>S</td>\n",
       "      <td>0</td>\n",
       "      <td>1</td>\n",
       "    </tr>\n",
       "    <tr>\n",
       "      <th>1</th>\n",
       "      <td>1</td>\n",
       "      <td>1</td>\n",
       "      <td>Cumings, Mrs. John Bradley (Florence Briggs Th...</td>\n",
       "      <td>female</td>\n",
       "      <td>38.0</td>\n",
       "      <td>1</td>\n",
       "      <td>0</td>\n",
       "      <td>PC 17599</td>\n",
       "      <td>71.2833</td>\n",
       "      <td>C</td>\n",
       "      <td>1</td>\n",
       "      <td>1</td>\n",
       "    </tr>\n",
       "    <tr>\n",
       "      <th>2</th>\n",
       "      <td>1</td>\n",
       "      <td>3</td>\n",
       "      <td>Heikkinen, Miss. Laina</td>\n",
       "      <td>female</td>\n",
       "      <td>26.0</td>\n",
       "      <td>0</td>\n",
       "      <td>0</td>\n",
       "      <td>STON/O2. 3101282</td>\n",
       "      <td>7.9250</td>\n",
       "      <td>S</td>\n",
       "      <td>0</td>\n",
       "      <td>0</td>\n",
       "    </tr>\n",
       "    <tr>\n",
       "      <th>3</th>\n",
       "      <td>1</td>\n",
       "      <td>1</td>\n",
       "      <td>Futrelle, Mrs. Jacques Heath (Lily May Peel)</td>\n",
       "      <td>female</td>\n",
       "      <td>35.0</td>\n",
       "      <td>1</td>\n",
       "      <td>0</td>\n",
       "      <td>113803</td>\n",
       "      <td>53.1000</td>\n",
       "      <td>S</td>\n",
       "      <td>1</td>\n",
       "      <td>1</td>\n",
       "    </tr>\n",
       "    <tr>\n",
       "      <th>4</th>\n",
       "      <td>0</td>\n",
       "      <td>3</td>\n",
       "      <td>Allen, Mr. William Henry</td>\n",
       "      <td>male</td>\n",
       "      <td>35.0</td>\n",
       "      <td>0</td>\n",
       "      <td>0</td>\n",
       "      <td>373450</td>\n",
       "      <td>8.0500</td>\n",
       "      <td>S</td>\n",
       "      <td>0</td>\n",
       "      <td>0</td>\n",
       "    </tr>\n",
       "  </tbody>\n",
       "</table>\n",
       "</div>"
      ],
      "text/plain": [
       "   Survived  Pclass                                               Name  \\\n",
       "0         0       3                            Braund, Mr. Owen Harris   \n",
       "1         1       1  Cumings, Mrs. John Bradley (Florence Briggs Th...   \n",
       "2         1       3                             Heikkinen, Miss. Laina   \n",
       "3         1       1       Futrelle, Mrs. Jacques Heath (Lily May Peel)   \n",
       "4         0       3                           Allen, Mr. William Henry   \n",
       "\n",
       "      Sex   Age  SibSp  Parch            Ticket     Fare Embarked  \\\n",
       "0    male  22.0      1      0         A/5 21171   7.2500        S   \n",
       "1  female  38.0      1      0          PC 17599  71.2833        C   \n",
       "2  female  26.0      0      0  STON/O2. 3101282   7.9250        S   \n",
       "3  female  35.0      1      0            113803  53.1000        S   \n",
       "4    male  35.0      0      0            373450   8.0500        S   \n",
       "\n",
       "   CabinIndicator  FamilyCount  \n",
       "0               0            1  \n",
       "1               1            1  \n",
       "2               0            0  \n",
       "3               1            1  \n",
       "4               0            0  "
      ]
     },
     "execution_count": 13,
     "metadata": {},
     "output_type": "execute_result"
    }
   ],
   "source": [
    "# Combine \"SibSp\" & \"Parch\"\n",
    "df['FamilyCount'] = df['SibSp'] + df['Parch']\n",
    "df.head()"
   ]
  },
  {
   "cell_type": "code",
   "execution_count": 14,
   "id": "0e972166",
   "metadata": {},
   "outputs": [
    {
     "data": {
      "text/plain": [
       "(891, 10)"
      ]
     },
     "execution_count": 14,
     "metadata": {},
     "output_type": "execute_result"
    }
   ],
   "source": [
    "# Dropping \"SibSp\" & \"Parch\" features as we have derived new column out of it\n",
    "df.drop(['SibSp','Parch'], axis=1, inplace=True)\n",
    "df.shape"
   ]
  },
  {
   "cell_type": "markdown",
   "id": "a3a6bbb9",
   "metadata": {},
   "source": [
    "### Categorical to Numeric Conversion"
   ]
  },
  {
   "cell_type": "code",
   "execution_count": 15,
   "id": "fe1c594e",
   "metadata": {},
   "outputs": [
    {
     "data": {
      "text/html": [
       "<div>\n",
       "<style scoped>\n",
       "    .dataframe tbody tr th:only-of-type {\n",
       "        vertical-align: middle;\n",
       "    }\n",
       "\n",
       "    .dataframe tbody tr th {\n",
       "        vertical-align: top;\n",
       "    }\n",
       "\n",
       "    .dataframe thead th {\n",
       "        text-align: right;\n",
       "    }\n",
       "</style>\n",
       "<table border=\"1\" class=\"dataframe\">\n",
       "  <thead>\n",
       "    <tr style=\"text-align: right;\">\n",
       "      <th></th>\n",
       "      <th>Survived</th>\n",
       "      <th>Pclass</th>\n",
       "      <th>Name</th>\n",
       "      <th>Sex</th>\n",
       "      <th>Age</th>\n",
       "      <th>Ticket</th>\n",
       "      <th>Fare</th>\n",
       "      <th>Embarked</th>\n",
       "      <th>CabinIndicator</th>\n",
       "      <th>FamilyCount</th>\n",
       "    </tr>\n",
       "  </thead>\n",
       "  <tbody>\n",
       "    <tr>\n",
       "      <th>0</th>\n",
       "      <td>0</td>\n",
       "      <td>3</td>\n",
       "      <td>Braund, Mr. Owen Harris</td>\n",
       "      <td>0</td>\n",
       "      <td>22.0</td>\n",
       "      <td>A/5 21171</td>\n",
       "      <td>7.2500</td>\n",
       "      <td>S</td>\n",
       "      <td>0</td>\n",
       "      <td>1</td>\n",
       "    </tr>\n",
       "    <tr>\n",
       "      <th>1</th>\n",
       "      <td>1</td>\n",
       "      <td>1</td>\n",
       "      <td>Cumings, Mrs. John Bradley (Florence Briggs Th...</td>\n",
       "      <td>1</td>\n",
       "      <td>38.0</td>\n",
       "      <td>PC 17599</td>\n",
       "      <td>71.2833</td>\n",
       "      <td>C</td>\n",
       "      <td>1</td>\n",
       "      <td>1</td>\n",
       "    </tr>\n",
       "    <tr>\n",
       "      <th>2</th>\n",
       "      <td>1</td>\n",
       "      <td>3</td>\n",
       "      <td>Heikkinen, Miss. Laina</td>\n",
       "      <td>1</td>\n",
       "      <td>26.0</td>\n",
       "      <td>STON/O2. 3101282</td>\n",
       "      <td>7.9250</td>\n",
       "      <td>S</td>\n",
       "      <td>0</td>\n",
       "      <td>0</td>\n",
       "    </tr>\n",
       "    <tr>\n",
       "      <th>3</th>\n",
       "      <td>1</td>\n",
       "      <td>1</td>\n",
       "      <td>Futrelle, Mrs. Jacques Heath (Lily May Peel)</td>\n",
       "      <td>1</td>\n",
       "      <td>35.0</td>\n",
       "      <td>113803</td>\n",
       "      <td>53.1000</td>\n",
       "      <td>S</td>\n",
       "      <td>1</td>\n",
       "      <td>1</td>\n",
       "    </tr>\n",
       "    <tr>\n",
       "      <th>4</th>\n",
       "      <td>0</td>\n",
       "      <td>3</td>\n",
       "      <td>Allen, Mr. William Henry</td>\n",
       "      <td>0</td>\n",
       "      <td>35.0</td>\n",
       "      <td>373450</td>\n",
       "      <td>8.0500</td>\n",
       "      <td>S</td>\n",
       "      <td>0</td>\n",
       "      <td>0</td>\n",
       "    </tr>\n",
       "  </tbody>\n",
       "</table>\n",
       "</div>"
      ],
      "text/plain": [
       "   Survived  Pclass                                               Name  Sex  \\\n",
       "0         0       3                            Braund, Mr. Owen Harris    0   \n",
       "1         1       1  Cumings, Mrs. John Bradley (Florence Briggs Th...    1   \n",
       "2         1       3                             Heikkinen, Miss. Laina    1   \n",
       "3         1       1       Futrelle, Mrs. Jacques Heath (Lily May Peel)    1   \n",
       "4         0       3                           Allen, Mr. William Henry    0   \n",
       "\n",
       "    Age            Ticket     Fare Embarked  CabinIndicator  FamilyCount  \n",
       "0  22.0         A/5 21171   7.2500        S               0            1  \n",
       "1  38.0          PC 17599  71.2833        C               1            1  \n",
       "2  26.0  STON/O2. 3101282   7.9250        S               0            0  \n",
       "3  35.0            113803  53.1000        S               1            1  \n",
       "4  35.0            373450   8.0500        S               0            0  "
      ]
     },
     "execution_count": 15,
     "metadata": {},
     "output_type": "execute_result"
    }
   ],
   "source": [
    "# Handle \"Sex\" feature, Male -> 0, Female -> 1\n",
    "df.Sex = df.Sex.map({'male': 0, 'female': 1})\n",
    "df.head()"
   ]
  },
  {
   "cell_type": "code",
   "execution_count": 16,
   "id": "e72451f9",
   "metadata": {},
   "outputs": [
    {
     "data": {
      "text/plain": [
       "(891, 7)"
      ]
     },
     "execution_count": 16,
     "metadata": {},
     "output_type": "execute_result"
    }
   ],
   "source": [
    "# Dropping non significant features\n",
    "df.drop(['Embarked','Name','Ticket'], axis=1, inplace=True)\n",
    "df.shape"
   ]
  },
  {
   "cell_type": "code",
   "execution_count": 17,
   "id": "44a84f85",
   "metadata": {},
   "outputs": [
    {
     "data": {
      "text/html": [
       "<div>\n",
       "<style scoped>\n",
       "    .dataframe tbody tr th:only-of-type {\n",
       "        vertical-align: middle;\n",
       "    }\n",
       "\n",
       "    .dataframe tbody tr th {\n",
       "        vertical-align: top;\n",
       "    }\n",
       "\n",
       "    .dataframe thead th {\n",
       "        text-align: right;\n",
       "    }\n",
       "</style>\n",
       "<table border=\"1\" class=\"dataframe\">\n",
       "  <thead>\n",
       "    <tr style=\"text-align: right;\">\n",
       "      <th></th>\n",
       "      <th>Survived</th>\n",
       "      <th>Pclass</th>\n",
       "      <th>Sex</th>\n",
       "      <th>Age</th>\n",
       "      <th>Fare</th>\n",
       "      <th>CabinIndicator</th>\n",
       "      <th>FamilyCount</th>\n",
       "    </tr>\n",
       "  </thead>\n",
       "  <tbody>\n",
       "    <tr>\n",
       "      <th>0</th>\n",
       "      <td>0</td>\n",
       "      <td>3</td>\n",
       "      <td>0</td>\n",
       "      <td>22.0</td>\n",
       "      <td>7.2500</td>\n",
       "      <td>0</td>\n",
       "      <td>1</td>\n",
       "    </tr>\n",
       "    <tr>\n",
       "      <th>1</th>\n",
       "      <td>1</td>\n",
       "      <td>1</td>\n",
       "      <td>1</td>\n",
       "      <td>38.0</td>\n",
       "      <td>71.2833</td>\n",
       "      <td>1</td>\n",
       "      <td>1</td>\n",
       "    </tr>\n",
       "    <tr>\n",
       "      <th>2</th>\n",
       "      <td>1</td>\n",
       "      <td>3</td>\n",
       "      <td>1</td>\n",
       "      <td>26.0</td>\n",
       "      <td>7.9250</td>\n",
       "      <td>0</td>\n",
       "      <td>0</td>\n",
       "    </tr>\n",
       "    <tr>\n",
       "      <th>3</th>\n",
       "      <td>1</td>\n",
       "      <td>1</td>\n",
       "      <td>1</td>\n",
       "      <td>35.0</td>\n",
       "      <td>53.1000</td>\n",
       "      <td>1</td>\n",
       "      <td>1</td>\n",
       "    </tr>\n",
       "    <tr>\n",
       "      <th>4</th>\n",
       "      <td>0</td>\n",
       "      <td>3</td>\n",
       "      <td>0</td>\n",
       "      <td>35.0</td>\n",
       "      <td>8.0500</td>\n",
       "      <td>0</td>\n",
       "      <td>0</td>\n",
       "    </tr>\n",
       "  </tbody>\n",
       "</table>\n",
       "</div>"
      ],
      "text/plain": [
       "   Survived  Pclass  Sex   Age     Fare  CabinIndicator  FamilyCount\n",
       "0         0       3    0  22.0   7.2500               0            1\n",
       "1         1       1    1  38.0  71.2833               1            1\n",
       "2         1       3    1  26.0   7.9250               0            0\n",
       "3         1       1    1  35.0  53.1000               1            1\n",
       "4         0       3    0  35.0   8.0500               0            0"
      ]
     },
     "execution_count": 17,
     "metadata": {},
     "output_type": "execute_result"
    }
   ],
   "source": [
    "# View top 5 rows\n",
    "df.head()"
   ]
  },
  {
   "cell_type": "markdown",
   "id": "9a636b07",
   "metadata": {},
   "source": [
    "### Train-Test Split"
   ]
  },
  {
   "cell_type": "code",
   "execution_count": 18,
   "id": "f1102849",
   "metadata": {},
   "outputs": [],
   "source": [
    "# Get X & y \n",
    "X = df.drop('Survived', axis=1)\n",
    "y = df['Survived']"
   ]
  },
  {
   "cell_type": "code",
   "execution_count": 19,
   "id": "d0da16c9",
   "metadata": {},
   "outputs": [],
   "source": [
    "# Perform split -> 60:40 (train:60, test:20, validation:20)\n",
    "X_train, X_test, y_train, y_test = train_test_split(X, y, test_size=0.4, random_state=42)\n",
    "X_validation, X_test, y_validation, y_test = train_test_split(X_test, y_test, test_size=0.5, random_state=42)"
   ]
  },
  {
   "cell_type": "code",
   "execution_count": 20,
   "id": "de970d20",
   "metadata": {},
   "outputs": [
    {
     "name": "stdout",
     "output_type": "stream",
     "text": [
      "0.6\n",
      "0.2\n",
      "0.2\n"
     ]
    }
   ],
   "source": [
    "# Verify the split 60:20:20\n",
    "for data in [y_train, y_test, y_validation]:\n",
    "    print(round(len(data)/len(y), 2))"
   ]
  },
  {
   "cell_type": "code",
   "execution_count": 21,
   "id": "8e59255a",
   "metadata": {},
   "outputs": [],
   "source": [
    "# Create train, test & validation set files\n",
    "X_train.to_csv('data/train_features.csv', index=False)\n",
    "X_test.to_csv('data/test_features.csv', index=False)\n",
    "X_validation.to_csv('data/validation_features.csv', index=False)\n",
    "y_train.to_csv('data/train_labels.csv', index=False)\n",
    "y_test.to_csv('data/test_labels.csv', index=False)\n",
    "y_validation.to_csv('data/validation_labels.csv', index=False)"
   ]
  },
  {
   "cell_type": "markdown",
   "id": "856bcc31",
   "metadata": {},
   "source": [
    "## Regression\n",
    "\n",
    "`Regression` is a statistical process for estimating the relationships among variables, often to make a prediction about some outcome.\n",
    "\n",
    "<u><b>Simple Linear Regression</b></u><br/>\n",
    "\n",
    "${y}={mx} + {c}$\n",
    "\n",
    "where,\n",
    "* m = slope\n",
    "* x = predictor feature (independent variable)\n",
    "* y = target feature (dependent variable)"
   ]
  },
  {
   "cell_type": "code",
   "execution_count": 22,
   "id": "ec9249fd",
   "metadata": {},
   "outputs": [
    {
     "data": {
      "text/html": [
       "<div>\n",
       "<style scoped>\n",
       "    .dataframe tbody tr th:only-of-type {\n",
       "        vertical-align: middle;\n",
       "    }\n",
       "\n",
       "    .dataframe tbody tr th {\n",
       "        vertical-align: top;\n",
       "    }\n",
       "\n",
       "    .dataframe thead th {\n",
       "        text-align: right;\n",
       "    }\n",
       "</style>\n",
       "<table border=\"1\" class=\"dataframe\">\n",
       "  <thead>\n",
       "    <tr style=\"text-align: right;\">\n",
       "      <th></th>\n",
       "      <th>Month</th>\n",
       "      <th>Rainfall (mm)</th>\n",
       "      <th>Umbrellas sold</th>\n",
       "    </tr>\n",
       "  </thead>\n",
       "  <tbody>\n",
       "    <tr>\n",
       "      <th>0</th>\n",
       "      <td>Jan</td>\n",
       "      <td>82.0</td>\n",
       "      <td>15</td>\n",
       "    </tr>\n",
       "    <tr>\n",
       "      <th>1</th>\n",
       "      <td>Feb</td>\n",
       "      <td>92.5</td>\n",
       "      <td>25</td>\n",
       "    </tr>\n",
       "    <tr>\n",
       "      <th>2</th>\n",
       "      <td>Mar</td>\n",
       "      <td>83.2</td>\n",
       "      <td>17</td>\n",
       "    </tr>\n",
       "    <tr>\n",
       "      <th>3</th>\n",
       "      <td>Apr</td>\n",
       "      <td>97.7</td>\n",
       "      <td>28</td>\n",
       "    </tr>\n",
       "    <tr>\n",
       "      <th>4</th>\n",
       "      <td>May</td>\n",
       "      <td>131.9</td>\n",
       "      <td>41</td>\n",
       "    </tr>\n",
       "  </tbody>\n",
       "</table>\n",
       "</div>"
      ],
      "text/plain": [
       "  Month  Rainfall (mm)  Umbrellas sold\n",
       "0   Jan           82.0              15\n",
       "1   Feb           92.5              25\n",
       "2   Mar           83.2              17\n",
       "3   Apr           97.7              28\n",
       "4   May          131.9              41"
      ]
     },
     "execution_count": 22,
     "metadata": {},
     "output_type": "execute_result"
    }
   ],
   "source": [
    "# Read rainfall dataset\n",
    "rainfall_df = pd.read_excel('data/rainfall_umbrellas.xlsx')\n",
    "rainfall_df.head()"
   ]
  },
  {
   "cell_type": "code",
   "execution_count": 23,
   "id": "c539a522",
   "metadata": {},
   "outputs": [
    {
     "data": {
      "image/png": "[encoded data removed]",
      "text/plain": [
       "<Figure size 432x288 with 1 Axes>"
      ]
     },
     "metadata": {
      "needs_background": "light"
     },
     "output_type": "display_data"
    }
   ],
   "source": [
    "# Plotting regression plot for rainfall dataset\n",
    "sns.regplot(data=rainfall_df, x=\"Rainfall (mm)\", y=\"Umbrellas sold\");"
   ]
  },
  {
   "cell_type": "markdown",
   "id": "4cfa862b",
   "metadata": {},
   "source": [
    "## Logistic Regression\n",
    "\n",
    "`Logistic Regression` is a form of regression where the target variable is binary\n",
    "\n",
    "<u><b>Logistic Regression</b></u><br/>\n",
    "\n",
    "${y} = \\frac{1}{e^{-({mx} + {c})}}$"
   ]
  },
  {
   "cell_type": "code",
   "execution_count": 24,
   "id": "80f93d95",
   "metadata": {},
   "outputs": [
    {
     "data": {
      "image/png": "[encoded data removed]",
      "text/plain": [
       "<Figure size 432x288 with 1 Axes>"
      ]
     },
     "metadata": {
      "needs_background": "light"
     },
     "output_type": "display_data"
    }
   ],
   "source": [
    "# Simple linear regression\n",
    "log_reg_df = pd.DataFrame({'X': [0,1,2,3,4,5,6,7,8,9,10,11,12], 'Y': [0,0,0,0,0,0,1,1,1,1,1,1,1]})\n",
    "sns.regplot(data=log_reg_df, x='X', y='Y');"
   ]
  },
  {
   "cell_type": "code",
   "execution_count": 25,
   "id": "48c00186",
   "metadata": {},
   "outputs": [],
   "source": [
    "# Define sigmoid function\n",
    "def sigmoid(x, x0, k):\n",
    "    y = 1 / (1 + np.exp(-k*(x-x0)))\n",
    "    return y"
   ]
  },
  {
   "cell_type": "code",
   "execution_count": 26,
   "id": "3d9a9bdd",
   "metadata": {},
   "outputs": [],
   "source": [
    "# Create data\n",
    "x_data = np.array([0.0,   1.0,  3.0, 4.3, 6.0, 7.0,   8.0,   8.5, 10.0, 12.0])\n",
    "y_data = np.array([0.01, 0.02, 0.04, 0.11, 0.72, 0.43,  0.7, 0.89, 0.95, 0.99])"
   ]
  },
  {
   "cell_type": "code",
   "execution_count": 27,
   "id": "23b11bfc",
   "metadata": {},
   "outputs": [
    {
     "data": {
      "image/png": "[encoded data removed]",
      "text/plain": [
       "<Figure size 432x288 with 1 Axes>"
      ]
     },
     "metadata": {
      "needs_background": "light"
     },
     "output_type": "display_data"
    }
   ],
   "source": [
    "# Best fit line\n",
    "sns.regplot(data=log_reg_df, x=x_data, y=y_data);"
   ]
  },
  {
   "cell_type": "code",
   "execution_count": 28,
   "id": "b4737978",
   "metadata": {},
   "outputs": [
    {
     "data": {
      "image/png": "[encoded data removed]",
      "text/plain": [
       "<Figure size 432x288 with 1 Axes>"
      ]
     },
     "metadata": {
      "needs_background": "light"
     },
     "output_type": "display_data"
    }
   ],
   "source": [
    "# Plot sigmoid line\n",
    "popt, pcov = curve_fit(sigmoid, x_data, y_data)\n",
    "\n",
    "x = np.linspace(-1, 15, 50)\n",
    "y = sigmoid(x, *popt)\n",
    "\n",
    "plt.plot(x_data, y_data, 'o', label='data')\n",
    "plt.plot(x, y, label='fit')\n",
    "plt.ylim(0, 1.05)\n",
    "plt.legend(loc='best')\n",
    "plt.show()"
   ]
  },
  {
   "cell_type": "markdown",
   "id": "250ebb0d",
   "metadata": {},
   "source": [
    "### When to use Logistic Regression\n",
    "\n",
    "|When to Use It?| When Not to Use It?|\n",
    "|---|---|\n",
    "|binary traget variable|continuous target variable|\n",
    "|transparency is important or interested in significance of predictors|massive data (rows or columns)|\n",
    "|fairly well-behaved data|unwieldy data|\n",
    "|need a quick initial benchmark|performance is the only thing that matters|"
   ]
  },
  {
   "cell_type": "markdown",
   "id": "a2710eb4",
   "metadata": {},
   "source": [
    "### Logistic Regression Hyperparameters\n",
    "\n",
    "Import Logistic Regression from `sklearn`"
   ]
  },
  {
   "cell_type": "code",
   "execution_count": 29,
   "id": "51866902",
   "metadata": {},
   "outputs": [],
   "source": [
    "# Import logistic regression module\n",
    "from sklearn.linear_model import LogisticRegression\n",
    "# print(dir(LogisticRegression()), end=', ')"
   ]
  },
  {
   "cell_type": "markdown",
   "id": "b46c6143",
   "metadata": {},
   "source": [
    "**Important Point**\n",
    "\n",
    "We will focus on `C` hyperparameter.\n",
    "\n",
    "`C` hyperparameter is a regularization parameter in logistic regression that controls how closely the model fits to the training data.\n",
    "\n",
    "`Regularization` is a technique used to reduce overfitting by discouraging overly complex models in some way.\n",
    "\n",
    "Basically ${\\lambda}$ is the hyperparameter,\n",
    "\n",
    "${C} = \\frac{1}{{\\lambda}}$\n",
    "\n",
    "${\\lambda}{\\Rightarrow}{0} = {C}{\\Rightarrow}{\\infty}$\n",
    "\n",
    "low regularization ${\\Rightarrow}$ high complexity ${\\Rightarrow}$ more likely to overfit"
   ]
  },
  {
   "cell_type": "code",
   "execution_count": 30,
   "id": "2ee86bf0",
   "metadata": {},
   "outputs": [],
   "source": [
    "# Import required package\n",
    "from sklearn.model_selection import GridSearchCV"
   ]
  },
  {
   "cell_type": "code",
   "execution_count": 31,
   "id": "281b912a",
   "metadata": {},
   "outputs": [],
   "source": [
    "# Helper function to view results\n",
    "def view_results(results):\n",
    "    print(f'Best Parameters: {results.best_params_}\\n')\n",
    "    mean_test_scores = results.cv_results_['mean_test_score']\n",
    "    std_test_scores = results.cv_results_['std_test_score']\n",
    "    for mean, std, parameters in zip(mean_test_scores, std_test_scores, results.cv_results_['params']):\n",
    "        print(f\"{round(mean,3)} (+/-{round(std*2,3)}) for {parameters}\")"
   ]
  },
  {
   "cell_type": "code",
   "execution_count": 32,
   "id": "ddcf718a",
   "metadata": {},
   "outputs": [],
   "source": [
    "# Create logistic regression object\n",
    "lr = LogisticRegression()"
   ]
  },
  {
   "cell_type": "code",
   "execution_count": 33,
   "id": "8f3a45bf",
   "metadata": {},
   "outputs": [],
   "source": [
    "# Define grid search parameters\n",
    "grid_parameters = {'C': [0.001, 0.01, 0.1, 1, 10, 100, 1000]}"
   ]
  },
  {
   "cell_type": "code",
   "execution_count": 34,
   "id": "9e62159f",
   "metadata": {},
   "outputs": [
    {
     "name": "stdout",
     "output_type": "stream",
     "text": [
      "Best Parameters: {'C': 1}\n",
      "\n",
      "0.67 (+/-0.077) for {'C': 0.001}\n",
      "0.708 (+/-0.098) for {'C': 0.01}\n",
      "0.777 (+/-0.134) for {'C': 0.1}\n",
      "0.8 (+/-0.118) for {'C': 1}\n",
      "0.794 (+/-0.116) for {'C': 10}\n",
      "0.794 (+/-0.116) for {'C': 100}\n",
      "0.794 (+/-0.116) for {'C': 1000}\n"
     ]
    }
   ],
   "source": [
    "# Perform grid search\n",
    "grid_search = GridSearchCV(lr, grid_parameters, cv=5)\n",
    "grid_search.fit(X_train, y_train.values.ravel())\n",
    "view_results(grid_search)"
   ]
  },
  {
   "cell_type": "code",
   "execution_count": 35,
   "id": "25f4cfb5",
   "metadata": {},
   "outputs": [
    {
     "data": {
      "text/plain": [
       "LogisticRegression(C=1)"
      ]
     },
     "execution_count": 35,
     "metadata": {},
     "output_type": "execute_result"
    }
   ],
   "source": [
    "# View best estimator\n",
    "grid_search.best_estimator_"
   ]
  },
  {
   "cell_type": "code",
   "execution_count": 36,
   "id": "3c302249",
   "metadata": {},
   "outputs": [
    {
     "data": {
      "text/plain": [
       "0.7997178628107917"
      ]
     },
     "execution_count": 36,
     "metadata": {},
     "output_type": "execute_result"
    }
   ],
   "source": [
    "# View best score\n",
    "grid_search.best_score_"
   ]
  },
  {
   "cell_type": "code",
   "execution_count": 37,
   "id": "88e043d0",
   "metadata": {},
   "outputs": [
    {
     "data": {
      "text/plain": [
       "['data/models/LR_Model.pkl']"
      ]
     },
     "execution_count": 37,
     "metadata": {},
     "output_type": "execute_result"
    }
   ],
   "source": [
    "# Store best model as pickle file\n",
    "joblib.dump(grid_search.best_estimator_, 'data/models/LR_Model.pkl')"
   ]
  },
  {
   "cell_type": "markdown",
   "id": "3ae22291",
   "metadata": {},
   "source": [
    "## Support Vector Machine\n",
    "\n",
    "A `Support Vector Machine` is a classifier that finds an optimal hyperplane that maximizes the margin between two classes."
   ]
  },
  {
   "cell_type": "code",
   "execution_count": 38,
   "id": "ea8d156b",
   "metadata": {},
   "outputs": [
    {
     "data": {
      "application/vnd.jupyter.widget-view+json": {
       "model_id": "1130af7bf7f3491f904948239c672f90",
       "version_major": 2,
       "version_minor": 0
      },
      "text/plain": [
       "HBox(children=(Image(value=b'\\x89PNG\\r\\n\\x1a\\n\\x00\\x00\\x00\\rIHDR\\x00\\x00\\x03\\xb6\\x00\\x00\\x03\\x1a\\x08\\x06\\x00\\x…"
      ]
     },
     "metadata": {},
     "output_type": "display_data"
    }
   ],
   "source": [
    "# SVM intution\n",
    "image_1 = open('images/svm-intution.png','rb').read()\n",
    "widget_1 = widgets.Image(value=image_1, format='jpg', width=300, height=400)\n",
    "image_2 =open('images/svm-algo.png','rb').read()\n",
    "widget_2 = widgets.Image(value=image_2, format='jpg', width=300, height=400)\n",
    "widget_final = widgets.HBox([widget_1, widget_2])\n",
    "display.display(widget_final)"
   ]
  },
  {
   "cell_type": "markdown",
   "id": "7c20cee7",
   "metadata": {},
   "source": [
    "<img src='images/svm-hyperplane.png' width=600 height=800 align='left'/>"
   ]
  },
  {
   "cell_type": "markdown",
   "id": "1a180922",
   "metadata": {},
   "source": [
    "The `kernel trick (or kernel method)` transforms data that is not linearly seperable in n-dimensional space to a higher dimension where it is linearly seperable."
   ]
  },
  {
   "cell_type": "markdown",
   "id": "0b811bae",
   "metadata": {},
   "source": [
    "<img src='images/svm-kernel-trick.png' width=600 height=800 align='left'/>"
   ]
  },
  {
   "cell_type": "markdown",
   "id": "877a220c",
   "metadata": {},
   "source": [
    "### When to use SVM\n",
    "\n",
    "|When to Use It?| When Not to Use It?|\n",
    "|---|---|\n",
    "|binary traget variable|feature-to-row ratio is very low|\n",
    "|feature-to-row ratio is very high|transparency is important or interested in significance of predictors|\n",
    "|very complex relationships|looking for a quick benchmark model|\n",
    "|data with lots of outliers||"
   ]
  },
  {
   "cell_type": "markdown",
   "id": "eeba7e03",
   "metadata": {},
   "source": [
    "### SVM Hyperparameters\n",
    "\n",
    "Import Support Vector Machines from `sklearn`"
   ]
  },
  {
   "cell_type": "code",
   "execution_count": 39,
   "id": "fc9a4b47",
   "metadata": {},
   "outputs": [],
   "source": [
    "# Importing SVM module\n",
    "from sklearn.svm import SVC\n",
    "# print(dir(SVC()), end=', ')"
   ]
  },
  {
   "cell_type": "markdown",
   "id": "089ea49e",
   "metadata": {},
   "source": [
    "**How value of `C` hyperparameter impact model?**\n",
    "\n",
    "<img src='images/svm-hyperparameter.png' width=600 height=800 align='left'/>"
   ]
  },
  {
   "cell_type": "markdown",
   "id": "3715019a",
   "metadata": {},
   "source": [
    "**Important Points**\n",
    "\n",
    "We will focus on two hyperparameters, `C` & `kernel`."
   ]
  },
  {
   "cell_type": "code",
   "execution_count": 40,
   "id": "b0ca5814",
   "metadata": {},
   "outputs": [],
   "source": [
    "# Define SVC object\n",
    "svc = SVC()"
   ]
  },
  {
   "cell_type": "code",
   "execution_count": 41,
   "id": "adc5f95e",
   "metadata": {},
   "outputs": [],
   "source": [
    "# Define grid search parameters\n",
    "grid_params = {\n",
    "    'kernel': ['linear','rbf'],\n",
    "    'C': [0.1, 1, 10]\n",
    "}"
   ]
  },
  {
   "cell_type": "code",
   "execution_count": 42,
   "id": "e4031e90",
   "metadata": {},
   "outputs": [],
   "source": [
    "# Read train dataset\n",
    "X_train = pd.read_csv('data/train_features.csv')\n",
    "y_train = pd.read_csv('data/train_labels.csv')"
   ]
  },
  {
   "cell_type": "code",
   "execution_count": 43,
   "id": "6270c160",
   "metadata": {},
   "outputs": [
    {
     "name": "stdout",
     "output_type": "stream",
     "text": [
      "Best Parameters: {'C': 0.1, 'kernel': 'linear'}\n",
      "\n",
      "0.796 (+/-0.115) for {'C': 0.1, 'kernel': 'linear'}\n",
      "0.654 (+/-0.06) for {'C': 0.1, 'kernel': 'rbf'}\n",
      "0.796 (+/-0.115) for {'C': 1, 'kernel': 'linear'}\n",
      "0.661 (+/-0.048) for {'C': 1, 'kernel': 'rbf'}\n",
      "0.796 (+/-0.115) for {'C': 10, 'kernel': 'linear'}\n",
      "0.684 (+/-0.07) for {'C': 10, 'kernel': 'rbf'}\n"
     ]
    }
   ],
   "source": [
    "# Perform grid search\n",
    "grid_search = GridSearchCV(svc, grid_params, cv=5)\n",
    "grid_search.fit(X_train, y_train.values.ravel())\n",
    "view_results(grid_search)"
   ]
  },
  {
   "cell_type": "code",
   "execution_count": 44,
   "id": "cac0ebaf",
   "metadata": {},
   "outputs": [
    {
     "data": {
      "text/plain": [
       "SVC(C=0.1, kernel='linear')"
      ]
     },
     "execution_count": 44,
     "metadata": {},
     "output_type": "execute_result"
    }
   ],
   "source": [
    "# View best estimator\n",
    "grid_search.best_estimator_"
   ]
  },
  {
   "cell_type": "code",
   "execution_count": 45,
   "id": "7d20b358",
   "metadata": {},
   "outputs": [
    {
     "data": {
      "text/plain": [
       "0.7959619114794568"
      ]
     },
     "execution_count": 45,
     "metadata": {},
     "output_type": "execute_result"
    }
   ],
   "source": [
    "# View best score\n",
    "grid_search.best_score_"
   ]
  },
  {
   "cell_type": "code",
   "execution_count": 46,
   "id": "f164d7a9",
   "metadata": {},
   "outputs": [
    {
     "data": {
      "text/plain": [
       "['data/models/SVM_Model.pkl']"
      ]
     },
     "execution_count": 46,
     "metadata": {},
     "output_type": "execute_result"
    }
   ],
   "source": [
    "# Store best model as pickle file\n",
    "joblib.dump(grid_search.best_estimator_, 'data/models/SVM_Model.pkl')"
   ]
  },
  {
   "cell_type": "markdown",
   "id": "47de8e2f",
   "metadata": {},
   "source": [
    "## Multilayer Perceptron\n",
    "\n",
    "A `multilayer perceptron` is a classic feed-forward artifical neural network, the core component of deep learning.\n",
    "\n",
    "**Alternatively:** A `multilayer perceptron` is a connected series of nodes (in the form of a directed acyclic graph), where each node represents a function or a model.\n",
    "\n",
    "<img src='images/perceptron.png' width=600 height=800 align='left'/>"
   ]
  },
  {
   "cell_type": "markdown",
   "id": "b6079015",
   "metadata": {},
   "source": [
    "### When to use Multilayer Perceptron\n",
    "\n",
    "|When to Use It?| When Not to Use It?|\n",
    "|---|---|\n",
    "|categorical or continuous traget variable|image recognition, time series, etc.|\n",
    "|very complex relationships or performance is the only thing that matters|transparency is important or interested in significance of predictors|\n",
    "|when control over the training process is very important|need a quick benchmark model|\n",
    "||very limited data available|"
   ]
  },
  {
   "cell_type": "markdown",
   "id": "785bec99",
   "metadata": {},
   "source": [
    "### Multilayer Perceptron Hyperparameters\n",
    "\n",
    "Import `MLPClassifier` and `MLPRegressor` from `sklearn`"
   ]
  },
  {
   "cell_type": "code",
   "execution_count": 47,
   "id": "10d56745",
   "metadata": {},
   "outputs": [],
   "source": [
    "# Importing multilayer perceptron modules\n",
    "from sklearn.neural_network import MLPClassifier, MLPRegressor\n",
    "# print(dir(MLPClassifier))\n",
    "# print(dir(MLPRegressor))"
   ]
  },
  {
   "attachments": {},
   "cell_type": "markdown",
   "id": "72e96ff2",
   "metadata": {},
   "source": [
    "The `hidden layer-size` hyperparameter determines how many hidden layers there will be and how many nodes in each layer.\n",
    "\n",
    "The `activation function` hyperparameter dictates the type of nonlinearity that is introduced to the model.\n",
    "\n",
    "* TanH - Hyperbolic Tangent Curve\n",
    "* ReLU - Rectified Linear Unit\n",
    "\n",
    "<img src='images/activation-function.png' width=700 height=800 align='left'></img>"
   ]
  },
  {
   "cell_type": "markdown",
   "id": "0cefc3e1",
   "metadata": {},
   "source": [
    "The `learning rate` hyperparameter facilitates both how quickly and whether or not the algorithm will find the optimal solution.\n",
    "\n",
    "**Note:** Small learning rate will not work in case of local minima.\n",
    "\n",
    "<img src='images/learning-rate.png' width=400 height=800 align='left'></img>"
   ]
  },
  {
   "cell_type": "code",
   "execution_count": 48,
   "id": "d3cfbb27",
   "metadata": {},
   "outputs": [],
   "source": [
    "# Create MLP classifier object\n",
    "mlp_classifier = MLPClassifier()"
   ]
  },
  {
   "cell_type": "code",
   "execution_count": 49,
   "id": "4c3e0dc3",
   "metadata": {},
   "outputs": [],
   "source": [
    "# Create grid search parameters\n",
    "grid_params = {\n",
    "    'hidden_layer_sizes': [(10,), (50,), (100,)],\n",
    "    'activation': ['relu', 'tanh', 'logistic'],\n",
    "    'learning_rate': ['constant', 'invscaling', 'adaptive']\n",
    "}"
   ]
  },
  {
   "cell_type": "code",
   "execution_count": 50,
   "id": "593632e1",
   "metadata": {},
   "outputs": [],
   "source": [
    "# Read train dataset\n",
    "X_train = pd.read_csv('data/train_features.csv')\n",
    "y_train = pd.read_csv('data/train_labels.csv')"
   ]
  },
  {
   "cell_type": "code",
   "execution_count": 51,
   "id": "bd50e10d",
   "metadata": {},
   "outputs": [
    {
     "name": "stdout",
     "output_type": "stream",
     "text": [
      "Fitting 5 folds for each of 27 candidates, totalling 135 fits\n",
      "Best Parameters: {'activation': 'relu', 'hidden_layer_sizes': (100,), 'learning_rate': 'invscaling'}\n",
      "\n",
      "0.712 (+/-0.115) for {'activation': 'relu', 'hidden_layer_sizes': (10,), 'learning_rate': 'constant'}\n",
      "0.762 (+/-0.096) for {'activation': 'relu', 'hidden_layer_sizes': (10,), 'learning_rate': 'invscaling'}\n",
      "0.702 (+/-0.056) for {'activation': 'relu', 'hidden_layer_sizes': (10,), 'learning_rate': 'adaptive'}\n",
      "0.764 (+/-0.14) for {'activation': 'relu', 'hidden_layer_sizes': (50,), 'learning_rate': 'constant'}\n",
      "0.781 (+/-0.13) for {'activation': 'relu', 'hidden_layer_sizes': (50,), 'learning_rate': 'invscaling'}\n",
      "0.792 (+/-0.093) for {'activation': 'relu', 'hidden_layer_sizes': (50,), 'learning_rate': 'adaptive'}\n",
      "0.796 (+/-0.107) for {'activation': 'relu', 'hidden_layer_sizes': (100,), 'learning_rate': 'constant'}\n",
      "0.805 (+/-0.114) for {'activation': 'relu', 'hidden_layer_sizes': (100,), 'learning_rate': 'invscaling'}\n",
      "0.772 (+/-0.131) for {'activation': 'relu', 'hidden_layer_sizes': (100,), 'learning_rate': 'adaptive'}\n",
      "0.71 (+/-0.108) for {'activation': 'tanh', 'hidden_layer_sizes': (10,), 'learning_rate': 'constant'}\n",
      "0.7 (+/-0.053) for {'activation': 'tanh', 'hidden_layer_sizes': (10,), 'learning_rate': 'invscaling'}\n",
      "0.721 (+/-0.111) for {'activation': 'tanh', 'hidden_layer_sizes': (10,), 'learning_rate': 'adaptive'}\n",
      "0.77 (+/-0.117) for {'activation': 'tanh', 'hidden_layer_sizes': (50,), 'learning_rate': 'constant'}\n",
      "0.79 (+/-0.095) for {'activation': 'tanh', 'hidden_layer_sizes': (50,), 'learning_rate': 'invscaling'}\n",
      "0.787 (+/-0.092) for {'activation': 'tanh', 'hidden_layer_sizes': (50,), 'learning_rate': 'adaptive'}\n",
      "0.8 (+/-0.108) for {'activation': 'tanh', 'hidden_layer_sizes': (100,), 'learning_rate': 'constant'}\n",
      "0.802 (+/-0.105) for {'activation': 'tanh', 'hidden_layer_sizes': (100,), 'learning_rate': 'invscaling'}\n",
      "0.803 (+/-0.099) for {'activation': 'tanh', 'hidden_layer_sizes': (100,), 'learning_rate': 'adaptive'}\n",
      "0.71 (+/-0.106) for {'activation': 'logistic', 'hidden_layer_sizes': (10,), 'learning_rate': 'constant'}\n",
      "0.695 (+/-0.093) for {'activation': 'logistic', 'hidden_layer_sizes': (10,), 'learning_rate': 'invscaling'}\n",
      "0.693 (+/-0.111) for {'activation': 'logistic', 'hidden_layer_sizes': (10,), 'learning_rate': 'adaptive'}\n",
      "0.764 (+/-0.101) for {'activation': 'logistic', 'hidden_layer_sizes': (50,), 'learning_rate': 'constant'}\n",
      "0.768 (+/-0.098) for {'activation': 'logistic', 'hidden_layer_sizes': (50,), 'learning_rate': 'invscaling'}\n",
      "0.772 (+/-0.103) for {'activation': 'logistic', 'hidden_layer_sizes': (50,), 'learning_rate': 'adaptive'}\n",
      "0.798 (+/-0.106) for {'activation': 'logistic', 'hidden_layer_sizes': (100,), 'learning_rate': 'constant'}\n",
      "0.792 (+/-0.105) for {'activation': 'logistic', 'hidden_layer_sizes': (100,), 'learning_rate': 'invscaling'}\n",
      "0.781 (+/-0.14) for {'activation': 'logistic', 'hidden_layer_sizes': (100,), 'learning_rate': 'adaptive'}\n"
     ]
    }
   ],
   "source": [
    "# Perform grid search\n",
    "grid_search = GridSearchCV(mlp_classifier, grid_params, cv=5, n_jobs=-1, verbose=1)\n",
    "grid_search.fit(X_train, y_train.values.ravel())\n",
    "view_results(grid_search)"
   ]
  },
  {
   "cell_type": "code",
   "execution_count": 52,
   "id": "0db08868",
   "metadata": {},
   "outputs": [
    {
     "data": {
      "text/plain": [
       "MLPClassifier(learning_rate='invscaling')"
      ]
     },
     "execution_count": 52,
     "metadata": {},
     "output_type": "execute_result"
    }
   ],
   "source": [
    "# View best estimator\n",
    "grid_search.best_estimator_"
   ]
  },
  {
   "cell_type": "code",
   "execution_count": 53,
   "id": "9bf3c8cf",
   "metadata": {},
   "outputs": [
    {
     "data": {
      "text/plain": [
       "0.8053077058719802"
      ]
     },
     "execution_count": 53,
     "metadata": {},
     "output_type": "execute_result"
    }
   ],
   "source": [
    "# View best score\n",
    "grid_search.best_score_"
   ]
  },
  {
   "cell_type": "code",
   "execution_count": 54,
   "id": "1c917a70",
   "metadata": {},
   "outputs": [
    {
     "data": {
      "text/plain": [
       "['data/models/MLP_Model.pkl']"
      ]
     },
     "execution_count": 54,
     "metadata": {},
     "output_type": "execute_result"
    }
   ],
   "source": [
    "# Store best model as pickle file\n",
    "joblib.dump(grid_search.best_estimator_, 'data/models/MLP_Model.pkl')"
   ]
  },
  {
   "cell_type": "markdown",
   "id": "7400f444",
   "metadata": {},
   "source": [
    "## Random Forest\n",
    "\n",
    "A `random forest` merges a collection of independent decision trees to get a more accurate and stable prediction.\n",
    "\n",
    "Type of `ensemnle method` (combine several machine learning models in order to decrease both bias and variance).\n",
    "\n",
    "<img src='images/random-forest-working.png' width=500 height=800 align='left'></img>"
   ]
  },
  {
   "cell_type": "markdown",
   "id": "b4a8f141",
   "metadata": {},
   "source": [
    "Making prediction on test set,\n",
    "\n",
    "<img src='images/random-forest-prediction.png' width=500 height=800 align='left'></img>"
   ]
  },
  {
   "cell_type": "markdown",
   "id": "986c7675",
   "metadata": {},
   "source": [
    "### When to use Random Forest\n",
    "\n",
    "|When to Use It?| When Not to Use It?|\n",
    "|---|---|\n",
    "|categorical or continuous traget variable|if we are solving a very complex, novel problem|\n",
    "|interested in significance of predictors|transparency is important|\n",
    "|need a quick benchmark model|prediction time is important|\n",
    "|if we have messy data, such as missing vakues, outliers||"
   ]
  },
  {
   "cell_type": "markdown",
   "id": "bdf6643f",
   "metadata": {},
   "source": [
    "### Random Forest Hyperparameters\n",
    "\n",
    "Import `RandomForestClassifier` and `RandomForestRegressor` from `sklearn`"
   ]
  },
  {
   "cell_type": "code",
   "execution_count": 55,
   "id": "1ed702af",
   "metadata": {},
   "outputs": [],
   "source": [
    "# Importing required modules\n",
    "from sklearn.ensemble import RandomForestClassifier, RandomForestRegressor\n",
    "# print(dir(RandomForestClassifier))\n",
    "# print(dir(RandomForestRegressor))"
   ]
  },
  {
   "cell_type": "markdown",
   "id": "8bde2c98",
   "metadata": {},
   "source": [
    "The `n_estimators` hyperparameter controls how many individual decision trees will be built.\n",
    "\n",
    "The `max_depth` hyperparameter controls how deep each individual decision tree can go.\n",
    "\n",
    "<img src='images/random-forest-hyperparameter.png' width=500 height=800 align='left'></img>"
   ]
  },
  {
   "cell_type": "code",
   "execution_count": 56,
   "id": "626abd1e",
   "metadata": {},
   "outputs": [],
   "source": [
    "# Create random forest classifier object\n",
    "rf_classifier = RandomForestClassifier(random_state=42, n_jobs=-1)"
   ]
  },
  {
   "cell_type": "code",
   "execution_count": 57,
   "id": "3d631532",
   "metadata": {},
   "outputs": [],
   "source": [
    "# Create grid search parameters\n",
    "grid_params = {\n",
    "    'n_estimators': [5, 50, 250],\n",
    "    'min_samples_leaf': [5, 10, 20, 50, 100, 200],\n",
    "    'max_depth': [2, 4, 8, 16, 32, None]\n",
    "}"
   ]
  },
  {
   "cell_type": "code",
   "execution_count": 58,
   "id": "0de0eedb",
   "metadata": {},
   "outputs": [],
   "source": [
    "# Read train dataset\n",
    "X_train = pd.read_csv('data/train_features.csv')\n",
    "y_train = pd.read_csv('data/train_labels.csv')"
   ]
  },
  {
   "cell_type": "code",
   "execution_count": 59,
   "id": "f6ca62ba",
   "metadata": {},
   "outputs": [
    {
     "name": "stdout",
     "output_type": "stream",
     "text": [
      "Fitting 5 folds for each of 108 candidates, totalling 540 fits\n",
      "Best Parameters: {'max_depth': 16, 'min_samples_leaf': 5, 'n_estimators': 5}\n",
      "\n",
      "0.758 (+/-0.077) for {'max_depth': 2, 'min_samples_leaf': 5, 'n_estimators': 5}\n",
      "0.8 (+/-0.118) for {'max_depth': 2, 'min_samples_leaf': 5, 'n_estimators': 50}\n",
      "0.805 (+/-0.12) for {'max_depth': 2, 'min_samples_leaf': 5, 'n_estimators': 250}\n",
      "0.755 (+/-0.08) for {'max_depth': 2, 'min_samples_leaf': 10, 'n_estimators': 5}\n",
      "0.794 (+/-0.121) for {'max_depth': 2, 'min_samples_leaf': 10, 'n_estimators': 50}\n",
      "0.8 (+/-0.122) for {'max_depth': 2, 'min_samples_leaf': 10, 'n_estimators': 250}\n",
      "0.747 (+/-0.092) for {'max_depth': 2, 'min_samples_leaf': 20, 'n_estimators': 5}\n",
      "0.781 (+/-0.111) for {'max_depth': 2, 'min_samples_leaf': 20, 'n_estimators': 50}\n",
      "0.785 (+/-0.119) for {'max_depth': 2, 'min_samples_leaf': 20, 'n_estimators': 250}\n",
      "0.738 (+/-0.084) for {'max_depth': 2, 'min_samples_leaf': 50, 'n_estimators': 5}\n",
      "0.772 (+/-0.121) for {'max_depth': 2, 'min_samples_leaf': 50, 'n_estimators': 50}\n",
      "0.787 (+/-0.11) for {'max_depth': 2, 'min_samples_leaf': 50, 'n_estimators': 250}\n",
      "0.695 (+/-0.068) for {'max_depth': 2, 'min_samples_leaf': 100, 'n_estimators': 5}\n",
      "0.684 (+/-0.086) for {'max_depth': 2, 'min_samples_leaf': 100, 'n_estimators': 50}\n",
      "0.669 (+/-0.07) for {'max_depth': 2, 'min_samples_leaf': 100, 'n_estimators': 250}\n",
      "0.624 (+/-0.007) for {'max_depth': 2, 'min_samples_leaf': 200, 'n_estimators': 5}\n",
      "0.624 (+/-0.007) for {'max_depth': 2, 'min_samples_leaf': 200, 'n_estimators': 50}\n",
      "0.624 (+/-0.007) for {'max_depth': 2, 'min_samples_leaf': 200, 'n_estimators': 250}\n",
      "0.807 (+/-0.104) for {'max_depth': 4, 'min_samples_leaf': 5, 'n_estimators': 5}\n",
      "0.824 (+/-0.108) for {'max_depth': 4, 'min_samples_leaf': 5, 'n_estimators': 50}\n",
      "0.817 (+/-0.119) for {'max_depth': 4, 'min_samples_leaf': 5, 'n_estimators': 250}\n",
      "0.783 (+/-0.094) for {'max_depth': 4, 'min_samples_leaf': 10, 'n_estimators': 5}\n",
      "0.802 (+/-0.121) for {'max_depth': 4, 'min_samples_leaf': 10, 'n_estimators': 50}\n",
      "0.809 (+/-0.136) for {'max_depth': 4, 'min_samples_leaf': 10, 'n_estimators': 250}\n",
      "0.781 (+/-0.099) for {'max_depth': 4, 'min_samples_leaf': 20, 'n_estimators': 5}\n",
      "0.79 (+/-0.119) for {'max_depth': 4, 'min_samples_leaf': 20, 'n_estimators': 50}\n",
      "0.788 (+/-0.109) for {'max_depth': 4, 'min_samples_leaf': 20, 'n_estimators': 250}\n",
      "0.744 (+/-0.094) for {'max_depth': 4, 'min_samples_leaf': 50, 'n_estimators': 5}\n",
      "0.766 (+/-0.108) for {'max_depth': 4, 'min_samples_leaf': 50, 'n_estimators': 50}\n",
      "0.787 (+/-0.11) for {'max_depth': 4, 'min_samples_leaf': 50, 'n_estimators': 250}\n",
      "0.695 (+/-0.068) for {'max_depth': 4, 'min_samples_leaf': 100, 'n_estimators': 5}\n",
      "0.684 (+/-0.086) for {'max_depth': 4, 'min_samples_leaf': 100, 'n_estimators': 50}\n",
      "0.669 (+/-0.07) for {'max_depth': 4, 'min_samples_leaf': 100, 'n_estimators': 250}\n",
      "0.624 (+/-0.007) for {'max_depth': 4, 'min_samples_leaf': 200, 'n_estimators': 5}\n",
      "0.624 (+/-0.007) for {'max_depth': 4, 'min_samples_leaf': 200, 'n_estimators': 50}\n",
      "0.624 (+/-0.007) for {'max_depth': 4, 'min_samples_leaf': 200, 'n_estimators': 250}\n",
      "0.824 (+/-0.088) for {'max_depth': 8, 'min_samples_leaf': 5, 'n_estimators': 5}\n",
      "0.822 (+/-0.096) for {'max_depth': 8, 'min_samples_leaf': 5, 'n_estimators': 50}\n",
      "0.82 (+/-0.101) for {'max_depth': 8, 'min_samples_leaf': 5, 'n_estimators': 250}\n",
      "0.787 (+/-0.091) for {'max_depth': 8, 'min_samples_leaf': 10, 'n_estimators': 5}\n",
      "0.813 (+/-0.115) for {'max_depth': 8, 'min_samples_leaf': 10, 'n_estimators': 50}\n",
      "0.809 (+/-0.125) for {'max_depth': 8, 'min_samples_leaf': 10, 'n_estimators': 250}\n",
      "0.783 (+/-0.09) for {'max_depth': 8, 'min_samples_leaf': 20, 'n_estimators': 5}\n",
      "0.785 (+/-0.123) for {'max_depth': 8, 'min_samples_leaf': 20, 'n_estimators': 50}\n",
      "0.788 (+/-0.119) for {'max_depth': 8, 'min_samples_leaf': 20, 'n_estimators': 250}\n",
      "0.744 (+/-0.094) for {'max_depth': 8, 'min_samples_leaf': 50, 'n_estimators': 5}\n",
      "0.766 (+/-0.108) for {'max_depth': 8, 'min_samples_leaf': 50, 'n_estimators': 50}\n",
      "0.787 (+/-0.11) for {'max_depth': 8, 'min_samples_leaf': 50, 'n_estimators': 250}\n",
      "0.695 (+/-0.068) for {'max_depth': 8, 'min_samples_leaf': 100, 'n_estimators': 5}\n",
      "0.684 (+/-0.086) for {'max_depth': 8, 'min_samples_leaf': 100, 'n_estimators': 50}\n",
      "0.669 (+/-0.07) for {'max_depth': 8, 'min_samples_leaf': 100, 'n_estimators': 250}\n",
      "0.624 (+/-0.007) for {'max_depth': 8, 'min_samples_leaf': 200, 'n_estimators': 5}\n",
      "0.624 (+/-0.007) for {'max_depth': 8, 'min_samples_leaf': 200, 'n_estimators': 50}\n",
      "0.624 (+/-0.007) for {'max_depth': 8, 'min_samples_leaf': 200, 'n_estimators': 250}\n",
      "0.83 (+/-0.096) for {'max_depth': 16, 'min_samples_leaf': 5, 'n_estimators': 5}\n",
      "0.828 (+/-0.088) for {'max_depth': 16, 'min_samples_leaf': 5, 'n_estimators': 50}\n",
      "0.824 (+/-0.102) for {'max_depth': 16, 'min_samples_leaf': 5, 'n_estimators': 250}\n",
      "0.775 (+/-0.084) for {'max_depth': 16, 'min_samples_leaf': 10, 'n_estimators': 5}\n",
      "0.805 (+/-0.119) for {'max_depth': 16, 'min_samples_leaf': 10, 'n_estimators': 50}\n",
      "0.809 (+/-0.125) for {'max_depth': 16, 'min_samples_leaf': 10, 'n_estimators': 250}\n",
      "0.783 (+/-0.09) for {'max_depth': 16, 'min_samples_leaf': 20, 'n_estimators': 5}\n",
      "0.785 (+/-0.123) for {'max_depth': 16, 'min_samples_leaf': 20, 'n_estimators': 50}\n",
      "0.788 (+/-0.119) for {'max_depth': 16, 'min_samples_leaf': 20, 'n_estimators': 250}\n",
      "0.744 (+/-0.094) for {'max_depth': 16, 'min_samples_leaf': 50, 'n_estimators': 5}\n",
      "0.766 (+/-0.108) for {'max_depth': 16, 'min_samples_leaf': 50, 'n_estimators': 50}\n",
      "0.787 (+/-0.11) for {'max_depth': 16, 'min_samples_leaf': 50, 'n_estimators': 250}\n",
      "0.695 (+/-0.068) for {'max_depth': 16, 'min_samples_leaf': 100, 'n_estimators': 5}\n",
      "0.684 (+/-0.086) for {'max_depth': 16, 'min_samples_leaf': 100, 'n_estimators': 50}\n",
      "0.669 (+/-0.07) for {'max_depth': 16, 'min_samples_leaf': 100, 'n_estimators': 250}\n",
      "0.624 (+/-0.007) for {'max_depth': 16, 'min_samples_leaf': 200, 'n_estimators': 5}\n",
      "0.624 (+/-0.007) for {'max_depth': 16, 'min_samples_leaf': 200, 'n_estimators': 50}\n",
      "0.624 (+/-0.007) for {'max_depth': 16, 'min_samples_leaf': 200, 'n_estimators': 250}\n",
      "0.83 (+/-0.096) for {'max_depth': 32, 'min_samples_leaf': 5, 'n_estimators': 5}\n",
      "0.828 (+/-0.088) for {'max_depth': 32, 'min_samples_leaf': 5, 'n_estimators': 50}\n",
      "0.824 (+/-0.102) for {'max_depth': 32, 'min_samples_leaf': 5, 'n_estimators': 250}\n",
      "0.775 (+/-0.084) for {'max_depth': 32, 'min_samples_leaf': 10, 'n_estimators': 5}\n",
      "0.805 (+/-0.119) for {'max_depth': 32, 'min_samples_leaf': 10, 'n_estimators': 50}\n",
      "0.809 (+/-0.125) for {'max_depth': 32, 'min_samples_leaf': 10, 'n_estimators': 250}\n",
      "0.783 (+/-0.09) for {'max_depth': 32, 'min_samples_leaf': 20, 'n_estimators': 5}\n",
      "0.785 (+/-0.123) for {'max_depth': 32, 'min_samples_leaf': 20, 'n_estimators': 50}\n",
      "0.788 (+/-0.119) for {'max_depth': 32, 'min_samples_leaf': 20, 'n_estimators': 250}\n",
      "0.744 (+/-0.094) for {'max_depth': 32, 'min_samples_leaf': 50, 'n_estimators': 5}\n",
      "0.766 (+/-0.108) for {'max_depth': 32, 'min_samples_leaf': 50, 'n_estimators': 50}\n",
      "0.787 (+/-0.11) for {'max_depth': 32, 'min_samples_leaf': 50, 'n_estimators': 250}\n",
      "0.695 (+/-0.068) for {'max_depth': 32, 'min_samples_leaf': 100, 'n_estimators': 5}\n",
      "0.684 (+/-0.086) for {'max_depth': 32, 'min_samples_leaf': 100, 'n_estimators': 50}\n",
      "0.669 (+/-0.07) for {'max_depth': 32, 'min_samples_leaf': 100, 'n_estimators': 250}\n",
      "0.624 (+/-0.007) for {'max_depth': 32, 'min_samples_leaf': 200, 'n_estimators': 5}\n",
      "0.624 (+/-0.007) for {'max_depth': 32, 'min_samples_leaf': 200, 'n_estimators': 50}\n",
      "0.624 (+/-0.007) for {'max_depth': 32, 'min_samples_leaf': 200, 'n_estimators': 250}\n",
      "0.83 (+/-0.096) for {'max_depth': None, 'min_samples_leaf': 5, 'n_estimators': 5}\n",
      "0.828 (+/-0.088) for {'max_depth': None, 'min_samples_leaf': 5, 'n_estimators': 50}\n",
      "0.824 (+/-0.102) for {'max_depth': None, 'min_samples_leaf': 5, 'n_estimators': 250}\n",
      "0.775 (+/-0.084) for {'max_depth': None, 'min_samples_leaf': 10, 'n_estimators': 5}\n",
      "0.805 (+/-0.119) for {'max_depth': None, 'min_samples_leaf': 10, 'n_estimators': 50}\n",
      "0.809 (+/-0.125) for {'max_depth': None, 'min_samples_leaf': 10, 'n_estimators': 250}\n",
      "0.783 (+/-0.09) for {'max_depth': None, 'min_samples_leaf': 20, 'n_estimators': 5}\n",
      "0.785 (+/-0.123) for {'max_depth': None, 'min_samples_leaf': 20, 'n_estimators': 50}\n",
      "0.788 (+/-0.119) for {'max_depth': None, 'min_samples_leaf': 20, 'n_estimators': 250}\n",
      "0.744 (+/-0.094) for {'max_depth': None, 'min_samples_leaf': 50, 'n_estimators': 5}\n",
      "0.766 (+/-0.108) for {'max_depth': None, 'min_samples_leaf': 50, 'n_estimators': 50}\n",
      "0.787 (+/-0.11) for {'max_depth': None, 'min_samples_leaf': 50, 'n_estimators': 250}\n",
      "0.695 (+/-0.068) for {'max_depth': None, 'min_samples_leaf': 100, 'n_estimators': 5}\n",
      "0.684 (+/-0.086) for {'max_depth': None, 'min_samples_leaf': 100, 'n_estimators': 50}\n",
      "0.669 (+/-0.07) for {'max_depth': None, 'min_samples_leaf': 100, 'n_estimators': 250}\n",
      "0.624 (+/-0.007) for {'max_depth': None, 'min_samples_leaf': 200, 'n_estimators': 5}\n",
      "0.624 (+/-0.007) for {'max_depth': None, 'min_samples_leaf': 200, 'n_estimators': 50}\n",
      "0.624 (+/-0.007) for {'max_depth': None, 'min_samples_leaf': 200, 'n_estimators': 250}\n"
     ]
    }
   ],
   "source": [
    "# Perform grid search\n",
    "grid_search = GridSearchCV(estimator=rf_classifier, \n",
    "                           param_grid=grid_params, \n",
    "                           cv=5, \n",
    "                           n_jobs=-1, \n",
    "                           verbose=1,\n",
    "                           scoring='accuracy')\n",
    "grid_search.fit(X_train, y_train)\n",
    "view_results(grid_search)"
   ]
  },
  {
   "cell_type": "code",
   "execution_count": 60,
   "id": "2342bb9a",
   "metadata": {},
   "outputs": [
    {
     "data": {
      "text/plain": [
       "RandomForestClassifier(max_depth=16, min_samples_leaf=5, n_estimators=5,\n",
       "                       n_jobs=-1, random_state=42)"
      ]
     },
     "execution_count": 60,
     "metadata": {},
     "output_type": "execute_result"
    }
   ],
   "source": [
    "# View best estimator\n",
    "grid_search.best_estimator_"
   ]
  },
  {
   "cell_type": "code",
   "execution_count": 61,
   "id": "83f332c0",
   "metadata": {},
   "outputs": [
    {
     "data": {
      "text/plain": [
       "0.8296596720155176"
      ]
     },
     "execution_count": 61,
     "metadata": {},
     "output_type": "execute_result"
    }
   ],
   "source": [
    "# View best score\n",
    "grid_search.best_score_"
   ]
  },
  {
   "cell_type": "code",
   "execution_count": 62,
   "id": "f6293ac2",
   "metadata": {},
   "outputs": [
    {
     "data": {
      "text/plain": [
       "['data/models/RF_Model.pkl']"
      ]
     },
     "execution_count": 62,
     "metadata": {},
     "output_type": "execute_result"
    }
   ],
   "source": [
    "# Store best model as pickle file\n",
    "joblib.dump(grid_search.best_estimator_, 'data/models/RF_Model.pkl')"
   ]
  },
  {
   "cell_type": "markdown",
   "id": "80778e5a",
   "metadata": {},
   "source": [
    "## Boosting\n",
    "\n",
    "`Boosting` is an ensemble method that aggregates a number of weak models to create one strong model.\n",
    "\n",
    "A `weak model` is one that is only slightly better than random guessing.\n",
    "\n",
    "A `strong model` is one that is strongly correlated with the true classification.\n",
    "\n",
    "`Boosting` effectively learns from its mistakes with each iteration.\n",
    "\n",
    "\n",
    "\n",
    "**Random Forest vs Boosting**\n",
    "\n",
    "The difference between random forest and boosting is that each individual model or decision tree in random forest was built independently. Each tree did not know what any of the other trees were doing. \n",
    "\n",
    "That is not the case with boosting. In boosting, each successive model learns from the mistakes of the ones before it so they're not independent.\n",
    "\n",
    "<img src='images/boosting-intution.png' width=650 height=800 align='left'></img>"
   ]
  },
  {
   "cell_type": "markdown",
   "id": "a36f5898",
   "metadata": {},
   "source": [
    "Making prediction on test set,\n",
    "\n",
    "<img src='images/boosting-prediction.png' width=500 height=800 align='left'></img>"
   ]
  },
  {
   "cell_type": "markdown",
   "id": "2be395c1",
   "metadata": {},
   "source": [
    "### When to use Boosting\n",
    "\n",
    "|When to Use It?| When Not to Use It?|\n",
    "|---|---|\n",
    "|categorical or continuous traget variable|transparency is important|\n",
    "|useful on nearly any type of problem|training time is important or compute power is limited|\n",
    "|interested in significance of predictors|data is really noisy|\n",
    "|prediction time is important||"
   ]
  },
  {
   "cell_type": "markdown",
   "id": "99efccdd",
   "metadata": {},
   "source": [
    "### Boosting Hyperparameters\n",
    "\n",
    "Import `GradientBoostingClassifier` and `GradientBoostingRegressor` from `sklearn`"
   ]
  },
  {
   "cell_type": "code",
   "execution_count": 63,
   "id": "6397e88d",
   "metadata": {},
   "outputs": [],
   "source": [
    "# Importing boosting modules\n",
    "from sklearn.ensemble import GradientBoostingClassifier, GradientBoostingRegressor\n",
    "# print(dir(GradientBoostingClassifier()))\n",
    "# print(dir(GradientBoostingRegressor()))"
   ]
  },
  {
   "cell_type": "code",
   "execution_count": 64,
   "id": "a448276e",
   "metadata": {},
   "outputs": [],
   "source": [
    "# Create gradient boosting classifer object\n",
    "gb_classifier = GradientBoostingClassifier()"
   ]
  },
  {
   "cell_type": "code",
   "execution_count": 65,
   "id": "784febed",
   "metadata": {},
   "outputs": [],
   "source": [
    "# Create grid search parameters\n",
    "grid_params = {\n",
    "    'n_estimators': [5, 50, 250, 500],\n",
    "    'max_depth': [1, 3, 5, 7, 9],\n",
    "    'learning_rate': [0.01, 0.1, 1, 10, 100]\n",
    "}"
   ]
  },
  {
   "cell_type": "code",
   "execution_count": 66,
   "id": "03ea7140",
   "metadata": {},
   "outputs": [],
   "source": [
    "# Read train dataset\n",
    "X_train = pd.read_csv('data/train_features.csv')\n",
    "y_train = pd.read_csv('data/train_labels.csv')"
   ]
  },
  {
   "cell_type": "code",
   "execution_count": 67,
   "id": "9f851c3f",
   "metadata": {},
   "outputs": [
    {
     "name": "stdout",
     "output_type": "stream",
     "text": [
      "Fitting 5 folds for each of 100 candidates, totalling 500 fits\n",
      "Best Parameters: {'learning_rate': 0.01, 'max_depth': 3, 'n_estimators': 500}\n",
      "\n",
      "0.624 (+/-0.007) for {'learning_rate': 0.01, 'max_depth': 1, 'n_estimators': 5}\n",
      "0.796 (+/-0.115) for {'learning_rate': 0.01, 'max_depth': 1, 'n_estimators': 50}\n",
      "0.796 (+/-0.115) for {'learning_rate': 0.01, 'max_depth': 1, 'n_estimators': 250}\n",
      "0.811 (+/-0.117) for {'learning_rate': 0.01, 'max_depth': 1, 'n_estimators': 500}\n",
      "0.624 (+/-0.007) for {'learning_rate': 0.01, 'max_depth': 3, 'n_estimators': 5}\n",
      "0.811 (+/-0.069) for {'learning_rate': 0.01, 'max_depth': 3, 'n_estimators': 50}\n",
      "0.83 (+/-0.074) for {'learning_rate': 0.01, 'max_depth': 3, 'n_estimators': 250}\n",
      "0.841 (+/-0.077) for {'learning_rate': 0.01, 'max_depth': 3, 'n_estimators': 500}\n",
      "0.624 (+/-0.007) for {'learning_rate': 0.01, 'max_depth': 5, 'n_estimators': 5}\n",
      "0.82 (+/-0.051) for {'learning_rate': 0.01, 'max_depth': 5, 'n_estimators': 50}\n",
      "0.818 (+/-0.043) for {'learning_rate': 0.01, 'max_depth': 5, 'n_estimators': 250}\n",
      "0.824 (+/-0.04) for {'learning_rate': 0.01, 'max_depth': 5, 'n_estimators': 500}\n",
      "0.624 (+/-0.007) for {'learning_rate': 0.01, 'max_depth': 7, 'n_estimators': 5}\n",
      "0.818 (+/-0.053) for {'learning_rate': 0.01, 'max_depth': 7, 'n_estimators': 50}\n",
      "0.82 (+/-0.043) for {'learning_rate': 0.01, 'max_depth': 7, 'n_estimators': 250}\n",
      "0.803 (+/-0.031) for {'learning_rate': 0.01, 'max_depth': 7, 'n_estimators': 500}\n",
      "0.624 (+/-0.007) for {'learning_rate': 0.01, 'max_depth': 9, 'n_estimators': 5}\n",
      "0.803 (+/-0.059) for {'learning_rate': 0.01, 'max_depth': 9, 'n_estimators': 50}\n",
      "0.798 (+/-0.043) for {'learning_rate': 0.01, 'max_depth': 9, 'n_estimators': 250}\n",
      "0.792 (+/-0.05) for {'learning_rate': 0.01, 'max_depth': 9, 'n_estimators': 500}\n",
      "0.796 (+/-0.115) for {'learning_rate': 0.1, 'max_depth': 1, 'n_estimators': 5}\n",
      "0.815 (+/-0.119) for {'learning_rate': 0.1, 'max_depth': 1, 'n_estimators': 50}\n",
      "0.818 (+/-0.111) for {'learning_rate': 0.1, 'max_depth': 1, 'n_estimators': 250}\n",
      "0.828 (+/-0.092) for {'learning_rate': 0.1, 'max_depth': 1, 'n_estimators': 500}\n",
      "0.813 (+/-0.071) for {'learning_rate': 0.1, 'max_depth': 3, 'n_estimators': 5}\n",
      "0.839 (+/-0.076) for {'learning_rate': 0.1, 'max_depth': 3, 'n_estimators': 50}\n",
      "0.826 (+/-0.032) for {'learning_rate': 0.1, 'max_depth': 3, 'n_estimators': 250}\n",
      "0.809 (+/-0.04) for {'learning_rate': 0.1, 'max_depth': 3, 'n_estimators': 500}\n",
      "0.815 (+/-0.044) for {'learning_rate': 0.1, 'max_depth': 5, 'n_estimators': 5}\n",
      "0.816 (+/-0.036) for {'learning_rate': 0.1, 'max_depth': 5, 'n_estimators': 50}\n",
      "0.807 (+/-0.04) for {'learning_rate': 0.1, 'max_depth': 5, 'n_estimators': 250}\n",
      "0.802 (+/-0.036) for {'learning_rate': 0.1, 'max_depth': 5, 'n_estimators': 500}\n",
      "0.818 (+/-0.045) for {'learning_rate': 0.1, 'max_depth': 7, 'n_estimators': 5}\n",
      "0.809 (+/-0.046) for {'learning_rate': 0.1, 'max_depth': 7, 'n_estimators': 50}\n",
      "0.792 (+/-0.041) for {'learning_rate': 0.1, 'max_depth': 7, 'n_estimators': 250}\n",
      "0.794 (+/-0.029) for {'learning_rate': 0.1, 'max_depth': 7, 'n_estimators': 500}\n",
      "0.794 (+/-0.039) for {'learning_rate': 0.1, 'max_depth': 9, 'n_estimators': 5}\n",
      "0.794 (+/-0.035) for {'learning_rate': 0.1, 'max_depth': 9, 'n_estimators': 50}\n",
      "0.781 (+/-0.029) for {'learning_rate': 0.1, 'max_depth': 9, 'n_estimators': 250}\n",
      "0.792 (+/-0.042) for {'learning_rate': 0.1, 'max_depth': 9, 'n_estimators': 500}\n",
      "0.818 (+/-0.099) for {'learning_rate': 1, 'max_depth': 1, 'n_estimators': 5}\n",
      "0.832 (+/-0.081) for {'learning_rate': 1, 'max_depth': 1, 'n_estimators': 50}\n",
      "0.826 (+/-0.077) for {'learning_rate': 1, 'max_depth': 1, 'n_estimators': 250}\n",
      "0.822 (+/-0.081) for {'learning_rate': 1, 'max_depth': 1, 'n_estimators': 500}\n",
      "0.824 (+/-0.057) for {'learning_rate': 1, 'max_depth': 3, 'n_estimators': 5}\n",
      "0.798 (+/-0.02) for {'learning_rate': 1, 'max_depth': 3, 'n_estimators': 50}\n",
      "0.781 (+/-0.03) for {'learning_rate': 1, 'max_depth': 3, 'n_estimators': 250}\n",
      "0.796 (+/-0.034) for {'learning_rate': 1, 'max_depth': 3, 'n_estimators': 500}\n",
      "0.803 (+/-0.024) for {'learning_rate': 1, 'max_depth': 5, 'n_estimators': 5}\n",
      "0.785 (+/-0.043) for {'learning_rate': 1, 'max_depth': 5, 'n_estimators': 50}\n",
      "0.803 (+/-0.028) for {'learning_rate': 1, 'max_depth': 5, 'n_estimators': 250}\n",
      "0.798 (+/-0.022) for {'learning_rate': 1, 'max_depth': 5, 'n_estimators': 500}\n",
      "0.781 (+/-0.022) for {'learning_rate': 1, 'max_depth': 7, 'n_estimators': 5}\n",
      "0.792 (+/-0.035) for {'learning_rate': 1, 'max_depth': 7, 'n_estimators': 50}\n",
      "0.801 (+/-0.044) for {'learning_rate': 1, 'max_depth': 7, 'n_estimators': 250}\n",
      "0.783 (+/-0.049) for {'learning_rate': 1, 'max_depth': 7, 'n_estimators': 500}\n",
      "0.779 (+/-0.032) for {'learning_rate': 1, 'max_depth': 9, 'n_estimators': 5}\n",
      "0.796 (+/-0.032) for {'learning_rate': 1, 'max_depth': 9, 'n_estimators': 50}\n",
      "0.8 (+/-0.031) for {'learning_rate': 1, 'max_depth': 9, 'n_estimators': 250}\n",
      "0.796 (+/-0.039) for {'learning_rate': 1, 'max_depth': 9, 'n_estimators': 500}\n",
      "0.204 (+/-0.115) for {'learning_rate': 10, 'max_depth': 1, 'n_estimators': 5}\n",
      "0.204 (+/-0.115) for {'learning_rate': 10, 'max_depth': 1, 'n_estimators': 50}\n",
      "0.204 (+/-0.115) for {'learning_rate': 10, 'max_depth': 1, 'n_estimators': 250}\n",
      "0.204 (+/-0.115) for {'learning_rate': 10, 'max_depth': 1, 'n_estimators': 500}\n",
      "0.307 (+/-0.195) for {'learning_rate': 10, 'max_depth': 3, 'n_estimators': 5}\n",
      "0.307 (+/-0.195) for {'learning_rate': 10, 'max_depth': 3, 'n_estimators': 50}\n",
      "0.307 (+/-0.195) for {'learning_rate': 10, 'max_depth': 3, 'n_estimators': 250}\n",
      "0.307 (+/-0.195) for {'learning_rate': 10, 'max_depth': 3, 'n_estimators': 500}\n",
      "0.414 (+/-0.252) for {'learning_rate': 10, 'max_depth': 5, 'n_estimators': 5}\n",
      "0.415 (+/-0.27) for {'learning_rate': 10, 'max_depth': 5, 'n_estimators': 50}\n",
      "0.415 (+/-0.27) for {'learning_rate': 10, 'max_depth': 5, 'n_estimators': 250}\n",
      "0.391 (+/-0.186) for {'learning_rate': 10, 'max_depth': 5, 'n_estimators': 500}\n",
      "0.597 (+/-0.177) for {'learning_rate': 10, 'max_depth': 7, 'n_estimators': 5}\n",
      "0.633 (+/-0.222) for {'learning_rate': 10, 'max_depth': 7, 'n_estimators': 50}\n",
      "0.627 (+/-0.173) for {'learning_rate': 10, 'max_depth': 7, 'n_estimators': 250}\n",
      "0.618 (+/-0.19) for {'learning_rate': 10, 'max_depth': 7, 'n_estimators': 500}\n",
      "0.704 (+/-0.111) for {'learning_rate': 10, 'max_depth': 9, 'n_estimators': 5}\n",
      "0.685 (+/-0.096) for {'learning_rate': 10, 'max_depth': 9, 'n_estimators': 50}\n",
      "0.682 (+/-0.118) for {'learning_rate': 10, 'max_depth': 9, 'n_estimators': 250}\n",
      "0.7 (+/-0.12) for {'learning_rate': 10, 'max_depth': 9, 'n_estimators': 500}\n",
      "0.376 (+/-0.007) for {'learning_rate': 100, 'max_depth': 1, 'n_estimators': 5}\n",
      "0.376 (+/-0.007) for {'learning_rate': 100, 'max_depth': 1, 'n_estimators': 50}\n",
      "0.376 (+/-0.007) for {'learning_rate': 100, 'max_depth': 1, 'n_estimators': 250}\n",
      "0.376 (+/-0.007) for {'learning_rate': 100, 'max_depth': 1, 'n_estimators': 500}\n",
      "0.29 (+/-0.102) for {'learning_rate': 100, 'max_depth': 3, 'n_estimators': 5}\n",
      "0.29 (+/-0.102) for {'learning_rate': 100, 'max_depth': 3, 'n_estimators': 50}\n",
      "0.29 (+/-0.102) for {'learning_rate': 100, 'max_depth': 3, 'n_estimators': 250}\n",
      "0.29 (+/-0.102) for {'learning_rate': 100, 'max_depth': 3, 'n_estimators': 500}\n",
      "0.365 (+/-0.194) for {'learning_rate': 100, 'max_depth': 5, 'n_estimators': 5}\n",
      "0.356 (+/-0.196) for {'learning_rate': 100, 'max_depth': 5, 'n_estimators': 50}\n",
      "0.356 (+/-0.196) for {'learning_rate': 100, 'max_depth': 5, 'n_estimators': 250}\n",
      "0.359 (+/-0.19) for {'learning_rate': 100, 'max_depth': 5, 'n_estimators': 500}\n",
      "0.569 (+/-0.093) for {'learning_rate': 100, 'max_depth': 7, 'n_estimators': 5}\n",
      "0.592 (+/-0.085) for {'learning_rate': 100, 'max_depth': 7, 'n_estimators': 50}\n",
      "0.586 (+/-0.119) for {'learning_rate': 100, 'max_depth': 7, 'n_estimators': 250}\n",
      "0.605 (+/-0.165) for {'learning_rate': 100, 'max_depth': 7, 'n_estimators': 500}\n",
      "0.684 (+/-0.098) for {'learning_rate': 100, 'max_depth': 9, 'n_estimators': 5}\n",
      "0.687 (+/-0.118) for {'learning_rate': 100, 'max_depth': 9, 'n_estimators': 50}\n",
      "0.691 (+/-0.083) for {'learning_rate': 100, 'max_depth': 9, 'n_estimators': 250}\n",
      "0.64 (+/-0.072) for {'learning_rate': 100, 'max_depth': 9, 'n_estimators': 500}\n"
     ]
    }
   ],
   "source": [
    "# Perform grid search\n",
    "grid_search = GridSearchCV(gb_classifier, grid_params, cv=5, n_jobs=-1, verbose=1)\n",
    "grid_search.fit(X_train, y_train.values.ravel())\n",
    "view_results(grid_search)"
   ]
  },
  {
   "cell_type": "code",
   "execution_count": 68,
   "id": "bb0b7df3",
   "metadata": {},
   "outputs": [
    {
     "data": {
      "text/plain": [
       "GradientBoostingClassifier(learning_rate=0.01, n_estimators=500)"
      ]
     },
     "execution_count": 68,
     "metadata": {},
     "output_type": "execute_result"
    }
   ],
   "source": [
    "# View best estimator\n",
    "grid_search.best_estimator_"
   ]
  },
  {
   "cell_type": "code",
   "execution_count": 69,
   "id": "1743c11c",
   "metadata": {},
   "outputs": [
    {
     "data": {
      "text/plain": [
       "0.8408569917122201"
      ]
     },
     "execution_count": 69,
     "metadata": {},
     "output_type": "execute_result"
    }
   ],
   "source": [
    "# View best score\n",
    "grid_search.best_score_"
   ]
  },
  {
   "cell_type": "code",
   "execution_count": 70,
   "id": "b60883d5",
   "metadata": {},
   "outputs": [
    {
     "data": {
      "text/plain": [
       "['data/models/GB_Model.pkl']"
      ]
     },
     "execution_count": 70,
     "metadata": {},
     "output_type": "execute_result"
    }
   ],
   "source": [
    "# Store best model as pickle file\n",
    "joblib.dump(grid_search.best_estimator_, 'data/models/GB_Model.pkl')"
   ]
  },
  {
   "cell_type": "markdown",
   "id": "23e83d1e",
   "metadata": {},
   "source": [
    "## Best Model - Underlaying Questions\n",
    "\n",
    "|Accuracy| Latency|\n",
    "|---|---|\n",
    "|how do they handle data of different sizes, such as short and fat, long, skinny?|how long will it take to train?|\n",
    "|how will they handle the complexity of feature relationship?|how long will it take to predict?|\n",
    "|how will they handle messy data?||\n",
    "\n",
    "\n",
    "#### Conceptual Comparison of Algorithms\n",
    "\n",
    "|Algorithm|Problem Type|Train Speed|Predict Speed|Interpretability|Performance|Performance with Limited Data|\n",
    "|---|---|---|---|---|---|---|\n",
    "|Logistic Regrerssion|Classification|Fast|Fast|Medium|Lower|Higher|\n",
    "|Support Vector Machine|Classification|Slow|Moderate|Low|Medium|Higher|\n",
    "|Multilayer Perceptron|Both|Slow|Moderate|Low|High|Lower|\n",
    "|Random Forest|Both|Moderate|Moderate|Low|Medium|Lower|\n",
    "|Boosted Trees|Both|Slow|Fast|Low|High|Lower|"
   ]
  },
  {
   "cell_type": "markdown",
   "id": "248ca603",
   "metadata": {},
   "source": [
    "## Final Model Selection"
   ]
  },
  {
   "cell_type": "code",
   "execution_count": 71,
   "id": "d66248a1",
   "metadata": {},
   "outputs": [],
   "source": [
    "# Importing required modules\n",
    "from sklearn.metrics import accuracy_score, precision_score, recall_score\n",
    "from time import time"
   ]
  },
  {
   "cell_type": "code",
   "execution_count": 72,
   "id": "b9ae416d",
   "metadata": {},
   "outputs": [
    {
     "data": {
      "text/plain": [
       "{'LR': LogisticRegression(C=1),\n",
       " 'SVM': SVC(C=0.1, kernel='linear'),\n",
       " 'MLP': MLPClassifier(learning_rate='invscaling'),\n",
       " 'RF': RandomForestClassifier(max_depth=16, min_samples_leaf=5, n_estimators=5,\n",
       "                        n_jobs=-1, random_state=42),\n",
       " 'GB': GradientBoostingClassifier(learning_rate=0.01, n_estimators=500)}"
      ]
     },
     "execution_count": 72,
     "metadata": {},
     "output_type": "execute_result"
    }
   ],
   "source": [
    "# Load all models\n",
    "models = {}\n",
    "for model in ['LR', 'SVM', 'MLP', 'RF', 'GB']:\n",
    "    models[model] = joblib.load(f'data/models/{model}_Model.pkl')\n",
    "models"
   ]
  },
  {
   "cell_type": "markdown",
   "id": "3627972b",
   "metadata": {},
   "source": [
    "### Performance Evaluation Metrics\n",
    "\n",
    "${Accuracy} = \\frac{number predicted correctly}{total numbers of examples}$\n",
    "\n",
    "${Precision} = \\frac{number predicted as surviving that actually survived}{total numbers predicted to survive}$\n",
    "\n",
    "${Recall} = \\frac{number predicted as surviving that actually survivied}{total numbers that actually survived}$"
   ]
  },
  {
   "cell_type": "code",
   "execution_count": 73,
   "id": "261f1d07",
   "metadata": {},
   "outputs": [],
   "source": [
    "# Helper function to evaluate models\n",
    "def evaluate_model(name, model, features, labels):\n",
    "    # make prediction\n",
    "    start_time = time()\n",
    "    pred = model.predict(features)\n",
    "    end_time = time()\n",
    "    \n",
    "    # compute evaluation metrics\n",
    "    accuracy = round(accuracy_score(labels, pred), 3)\n",
    "    precision = round(precision_score(labels, pred), 3)\n",
    "    recall = round(recall_score(labels, pred), 3)\n",
    "    time_taken = round(end_time - start_time, 4)\n",
    "    print(f'{name} -- Accuracy: {accuracy} | Precision: {precision} | Recall: {recall} | Latency: {time_taken}ms')"
   ]
  },
  {
   "cell_type": "code",
   "execution_count": 74,
   "id": "78eba24d",
   "metadata": {},
   "outputs": [
    {
     "name": "stdout",
     "output_type": "stream",
     "text": [
      "LR -- Accuracy: 0.775 | Precision: 0.712 | Recall: 0.646 | Latency: 0.002ms\n",
      "SVM -- Accuracy: 0.747 | Precision: 0.672 | Recall: 0.6 | Latency: 0.002ms\n",
      "MLP -- Accuracy: 0.775 | Precision: 0.692 | Recall: 0.692 | Latency: 0.002ms\n",
      "RF -- Accuracy: 0.781 | Precision: 0.783 | Recall: 0.554 | Latency: 0.004ms\n",
      "GB -- Accuracy: 0.815 | Precision: 0.808 | Recall: 0.646 | Latency: 0.002ms\n"
     ]
    }
   ],
   "source": [
    "# Evaluate models on validation set\n",
    "for name, model in models.items():\n",
    "    evaluate_model(name, model, X_validation, y_validation)"
   ]
  },
  {
   "cell_type": "markdown",
   "id": "b934db01",
   "metadata": {},
   "source": [
    "# Model Trade-offs\n",
    "\n",
    "**Precesion vs Recall Trade-off**\n",
    "\n",
    "Somtimes we have to give up some recall for gains in precision, or vice versa. Which model we choose will really come down to the problem we are trying to solve, or the business use case. For instance, if this is a spam detection problem, then we would optimize for precision. In other words, if our model says that it's spam, it better be spam, or else we'll be blocking real emails that people would want to see. On the other side, if this is a fraud detection model, we are more likely to optimize for recall, because missing any one of these real fraudulent transactions could cost thousands or even tens of thousands of dollars. \n",
    "\n",
    "**Overall Accuracy**\n",
    "\n",
    "Trade off between overall accuracy and latency. In our case, our best model based on accuracy is also the slowest model to make predictions. So if we were deploying this model in a real-time environment where the prediction speed was critical, perhaps we would choose the gradient boosting model, where we're giving up just a little bit of accuracy, but we're reducing the latency by quite a bit."
   ]
  },
  {
   "cell_type": "code",
   "execution_count": 75,
   "id": "19ed44ee",
   "metadata": {},
   "outputs": [
    {
     "name": "stdout",
     "output_type": "stream",
     "text": [
      "LR -- Accuracy: 0.827 | Precision: 0.846 | Recall: 0.724 | Latency: 0.002ms\n",
      "SVM -- Accuracy: 0.799 | Precision: 0.794 | Recall: 0.711 | Latency: 0.0038ms\n",
      "MLP -- Accuracy: 0.804 | Precision: 0.789 | Recall: 0.737 | Latency: 0.002ms\n",
      "RF -- Accuracy: 0.816 | Precision: 0.831 | Recall: 0.711 | Latency: 0.009ms\n",
      "GB -- Accuracy: 0.816 | Precision: 0.852 | Recall: 0.684 | Latency: 0.002ms\n"
     ]
    }
   ],
   "source": [
    "# Evaluate models on test set\n",
    "for name, model in models.items():\n",
    "    evaluate_model(name, model, X_test, y_test)"
   ]
  },
  {
   "cell_type": "markdown",
   "id": "753919f1",
   "metadata": {},
   "source": [
    "So our final model would be `gradient booting` model :)"
   ]
  }
 ],
 "metadata": {
  "kernelspec": {
   "display_name": "Python 3 (ipykernel)",
   "language": "python",
   "name": "python3"
  },
  "language_info": {
   "codemirror_mode": {
    "name": "ipython",
    "version": 3
   },
   "file_extension": ".py",
   "mimetype": "text/x-python",
   "name": "python",
   "nbconvert_exporter": "python",
   "pygments_lexer": "ipython3",
   "version": "3.9.7"
  }
 },
 "nbformat": 4,
 "nbformat_minor": 5
}
